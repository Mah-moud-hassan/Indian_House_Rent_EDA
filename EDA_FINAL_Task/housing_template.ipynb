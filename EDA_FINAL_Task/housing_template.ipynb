{
 "cells": [
  {
   "cell_type": "markdown",
   "metadata": {},
   "source": [
    "#### Import Libraries"
   ]
  },
  {
   "cell_type": "code",
   "execution_count": 1,
   "metadata": {},
   "outputs": [],
   "source": [
    "import pandas as pd \n",
    "import numpy as np \n",
    "import matplotlib.pyplot as plt \n",
    "import seaborn as sns "
   ]
  },
  {
   "cell_type": "markdown",
   "metadata": {},
   "source": [
    "#### Load the dataset"
   ]
  },
  {
   "cell_type": "code",
   "execution_count": 2,
   "metadata": {},
   "outputs": [],
   "source": [
    "df = pd.read_csv('Indian_House_Rent_Dataset.csv')"
   ]
  },
  {
   "cell_type": "markdown",
   "metadata": {},
   "source": [
    "Fill NAN Values With Percentage Function"
   ]
  },
  {
   "cell_type": "code",
   "execution_count": 3,
   "metadata": {},
   "outputs": [],
   "source": [
    "def fill_NAN_with_percentage(df, col_name):\n",
    "    value_counts = df[col_name].value_counts(normalize=True)\n",
    "    nan_indices = df[df[col_name].isna()].index\n",
    "    fill_values = np.random.choice(value_counts.index, size=len(nan_indices), p=value_counts.values)\n",
    "    df.loc[nan_indices, col_name] = fill_values\n",
    "    return df\n"
   ]
  },
  {
   "cell_type": "markdown",
   "metadata": {},
   "source": [
    "#### Data Exploration"
   ]
  },
  {
   "cell_type": "code",
   "execution_count": 4,
   "metadata": {},
   "outputs": [
    {
     "data": {
      "text/html": [
       "<div>\n",
       "<style scoped>\n",
       "    .dataframe tbody tr th:only-of-type {\n",
       "        vertical-align: middle;\n",
       "    }\n",
       "\n",
       "    .dataframe tbody tr th {\n",
       "        vertical-align: top;\n",
       "    }\n",
       "\n",
       "    .dataframe thead th {\n",
       "        text-align: right;\n",
       "    }\n",
       "</style>\n",
       "<table border=\"1\" class=\"dataframe\">\n",
       "  <thead>\n",
       "    <tr style=\"text-align: right;\">\n",
       "      <th></th>\n",
       "      <th>Posted On</th>\n",
       "      <th>BHK</th>\n",
       "      <th>Size</th>\n",
       "      <th>Floor</th>\n",
       "      <th>Area Type</th>\n",
       "      <th>Area Locality</th>\n",
       "      <th>City</th>\n",
       "      <th>Furnishing Status</th>\n",
       "      <th>Tenant Preferred</th>\n",
       "      <th>Bathroom</th>\n",
       "      <th>Point of Contact</th>\n",
       "      <th>Rent</th>\n",
       "    </tr>\n",
       "  </thead>\n",
       "  <tbody>\n",
       "    <tr>\n",
       "      <th>0</th>\n",
       "      <td>NaN</td>\n",
       "      <td>2.0</td>\n",
       "      <td>1100.0</td>\n",
       "      <td>NaN</td>\n",
       "      <td>Super Area</td>\n",
       "      <td>Bandel</td>\n",
       "      <td>India-! Kolkata</td>\n",
       "      <td>Unfurnished</td>\n",
       "      <td>Bach^elors/Fam.ily</td>\n",
       "      <td>2.0</td>\n",
       "      <td>Contact Owner</td>\n",
       "      <td>10000</td>\n",
       "    </tr>\n",
       "    <tr>\n",
       "      <th>1</th>\n",
       "      <td>2022-05-13</td>\n",
       "      <td>2.0</td>\n",
       "      <td>800.0</td>\n",
       "      <td>1 out of 3</td>\n",
       "      <td>Super Area</td>\n",
       "      <td>Phool Bagan, Kankurgachi</td>\n",
       "      <td>India-! Kolkata</td>\n",
       "      <td>Semi-Furnished</td>\n",
       "      <td>Bachelors\\/Family*</td>\n",
       "      <td>NaN</td>\n",
       "      <td>NaN</td>\n",
       "      <td>20000</td>\n",
       "    </tr>\n",
       "    <tr>\n",
       "      <th>2</th>\n",
       "      <td>2022-05-16</td>\n",
       "      <td>2.0</td>\n",
       "      <td>1000.0</td>\n",
       "      <td>1 out of 3</td>\n",
       "      <td>Super Area</td>\n",
       "      <td>Salt Lake City Sector 2</td>\n",
       "      <td>India-- Kolkata</td>\n",
       "      <td>Semi-Furnished</td>\n",
       "      <td>NaN</td>\n",
       "      <td>1.0</td>\n",
       "      <td>Contact Owner</td>\n",
       "      <td>17000</td>\n",
       "    </tr>\n",
       "    <tr>\n",
       "      <th>3</th>\n",
       "      <td>2022-07-04</td>\n",
       "      <td>2.0</td>\n",
       "      <td>800.0</td>\n",
       "      <td>1 out of 2</td>\n",
       "      <td>Super Area</td>\n",
       "      <td>NaN</td>\n",
       "      <td>NaN</td>\n",
       "      <td>Unfurnished</td>\n",
       "      <td>Bachel]ors/F@amily</td>\n",
       "      <td>1.0</td>\n",
       "      <td>NaN</td>\n",
       "      <td>10000</td>\n",
       "    </tr>\n",
       "    <tr>\n",
       "      <th>4</th>\n",
       "      <td>2022-05-09</td>\n",
       "      <td>2.0 room</td>\n",
       "      <td>850.0</td>\n",
       "      <td>1 out of 2</td>\n",
       "      <td>Carpet Area</td>\n",
       "      <td>South Dum Dum</td>\n",
       "      <td>India-^ Kolkata</td>\n",
       "      <td>Unfurnished</td>\n",
       "      <td>Bache[lors&amp;</td>\n",
       "      <td>1.0</td>\n",
       "      <td>Contact Owner</td>\n",
       "      <td>7500</td>\n",
       "    </tr>\n",
       "    <tr>\n",
       "      <th>5</th>\n",
       "      <td>2022-04-29</td>\n",
       "      <td>2.0</td>\n",
       "      <td>600.0</td>\n",
       "      <td>Ground out of 1</td>\n",
       "      <td>Super Area</td>\n",
       "      <td>Thakurpukur</td>\n",
       "      <td>India-\\ Kolkata</td>\n",
       "      <td>Unfurnished</td>\n",
       "      <td>Bachelors/F}amily+</td>\n",
       "      <td>2.0</td>\n",
       "      <td>Contact Owner</td>\n",
       "      <td>7000</td>\n",
       "    </tr>\n",
       "    <tr>\n",
       "      <th>6</th>\n",
       "      <td>2022-06-21</td>\n",
       "      <td>2.0</td>\n",
       "      <td>700.0</td>\n",
       "      <td>Ground out of 4</td>\n",
       "      <td>Super Area</td>\n",
       "      <td>NaN</td>\n",
       "      <td>India-% Kolkata</td>\n",
       "      <td>Unfurnished</td>\n",
       "      <td>Bach@=elors</td>\n",
       "      <td>2.0</td>\n",
       "      <td>Contact Agent</td>\n",
       "      <td>10000</td>\n",
       "    </tr>\n",
       "    <tr>\n",
       "      <th>7</th>\n",
       "      <td>2022-06-21</td>\n",
       "      <td>1.0</td>\n",
       "      <td>250.0</td>\n",
       "      <td>1 out of 2</td>\n",
       "      <td>Super Area</td>\n",
       "      <td>Malancha</td>\n",
       "      <td>,-9 Kolkata</td>\n",
       "      <td>Unfurnished</td>\n",
       "      <td>NaN</td>\n",
       "      <td>1.0 Bathrooms</td>\n",
       "      <td>Contact Agent</td>\n",
       "      <td>5000</td>\n",
       "    </tr>\n",
       "    <tr>\n",
       "      <th>8</th>\n",
       "      <td>2022-06-07</td>\n",
       "      <td>2.0</td>\n",
       "      <td>NaN</td>\n",
       "      <td>1 out of 2</td>\n",
       "      <td>Carpet Area</td>\n",
       "      <td>Palm Avenue Kolkata, Ballygunge</td>\n",
       "      <td>NaN</td>\n",
       "      <td>Unfurnished</td>\n",
       "      <td>?Bachelor,s</td>\n",
       "      <td>2.0</td>\n",
       "      <td>Contact Agent</td>\n",
       "      <td>26000</td>\n",
       "    </tr>\n",
       "    <tr>\n",
       "      <th>9</th>\n",
       "      <td>NaN</td>\n",
       "      <td>NaN</td>\n",
       "      <td>1000.0</td>\n",
       "      <td>1 out of 3</td>\n",
       "      <td>Carpet Area</td>\n",
       "      <td>Natunhat</td>\n",
       "      <td>,-9 Kolkata</td>\n",
       "      <td>Semi-Furnished</td>\n",
       "      <td>NaN</td>\n",
       "      <td>2.0</td>\n",
       "      <td>Contact Owner</td>\n",
       "      <td>10000</td>\n",
       "    </tr>\n",
       "  </tbody>\n",
       "</table>\n",
       "</div>"
      ],
      "text/plain": [
       "    Posted On       BHK    Size            Floor    Area Type  \\\n",
       "0         NaN       2.0  1100.0              NaN   Super Area   \n",
       "1  2022-05-13       2.0   800.0       1 out of 3   Super Area   \n",
       "2  2022-05-16       2.0  1000.0       1 out of 3   Super Area   \n",
       "3  2022-07-04       2.0   800.0       1 out of 2   Super Area   \n",
       "4  2022-05-09  2.0 room   850.0       1 out of 2  Carpet Area   \n",
       "5  2022-04-29       2.0   600.0  Ground out of 1   Super Area   \n",
       "6  2022-06-21       2.0   700.0  Ground out of 4   Super Area   \n",
       "7  2022-06-21       1.0   250.0       1 out of 2   Super Area   \n",
       "8  2022-06-07       2.0     NaN       1 out of 2  Carpet Area   \n",
       "9         NaN       NaN  1000.0       1 out of 3  Carpet Area   \n",
       "\n",
       "                     Area Locality             City Furnishing Status  \\\n",
       "0                           Bandel  India-! Kolkata       Unfurnished   \n",
       "1         Phool Bagan, Kankurgachi  India-! Kolkata    Semi-Furnished   \n",
       "2          Salt Lake City Sector 2  India-- Kolkata    Semi-Furnished   \n",
       "3                              NaN              NaN       Unfurnished   \n",
       "4                    South Dum Dum  India-^ Kolkata       Unfurnished   \n",
       "5                      Thakurpukur  India-\\ Kolkata       Unfurnished   \n",
       "6                              NaN  India-% Kolkata       Unfurnished   \n",
       "7                         Malancha      ,-9 Kolkata       Unfurnished   \n",
       "8  Palm Avenue Kolkata, Ballygunge              NaN       Unfurnished   \n",
       "9                         Natunhat      ,-9 Kolkata    Semi-Furnished   \n",
       "\n",
       "     Tenant Preferred       Bathroom Point of Contact   Rent  \n",
       "0  Bach^elors/Fam.ily            2.0    Contact Owner  10000  \n",
       "1  Bachelors\\/Family*            NaN              NaN  20000  \n",
       "2                 NaN            1.0    Contact Owner  17000  \n",
       "3  Bachel]ors/F@amily            1.0              NaN  10000  \n",
       "4         Bache[lors&            1.0    Contact Owner   7500  \n",
       "5  Bachelors/F}amily+            2.0    Contact Owner   7000  \n",
       "6         Bach@=elors            2.0    Contact Agent  10000  \n",
       "7                 NaN  1.0 Bathrooms    Contact Agent   5000  \n",
       "8         ?Bachelor,s            2.0    Contact Agent  26000  \n",
       "9                 NaN            2.0    Contact Owner  10000  "
      ]
     },
     "execution_count": 4,
     "metadata": {},
     "output_type": "execute_result"
    }
   ],
   "source": [
    "df.head(10)"
   ]
  },
  {
   "cell_type": "code",
   "execution_count": 5,
   "metadata": {},
   "outputs": [
    {
     "name": "stdout",
     "output_type": "stream",
     "text": [
      "<class 'pandas.core.frame.DataFrame'>\n",
      "RangeIndex: 4746 entries, 0 to 4745\n",
      "Data columns (total 12 columns):\n",
      " #   Column             Non-Null Count  Dtype \n",
      "---  ------             --------------  ----- \n",
      " 0   Posted On          4084 non-null   object\n",
      " 1   BHK                3963 non-null   object\n",
      " 2   Size               3826 non-null   object\n",
      " 3   Floor              3960 non-null   object\n",
      " 4   Area Type          3804 non-null   object\n",
      " 5   Area Locality      4146 non-null   object\n",
      " 6   City               4091 non-null   object\n",
      " 7   Furnishing Status  4042 non-null   object\n",
      " 8   Tenant Preferred   4094 non-null   object\n",
      " 9   Bathroom           4205 non-null   object\n",
      " 10  Point of Contact   4137 non-null   object\n",
      " 11  Rent               4746 non-null   int64 \n",
      "dtypes: int64(1), object(11)\n",
      "memory usage: 445.1+ KB\n"
     ]
    }
   ],
   "source": [
    "df.info()"
   ]
  },
  {
   "cell_type": "code",
   "execution_count": 6,
   "metadata": {},
   "outputs": [
    {
     "data": {
      "text/plain": [
       "(4746, 12)"
      ]
     },
     "execution_count": 6,
     "metadata": {},
     "output_type": "execute_result"
    }
   ],
   "source": [
    "df.shape"
   ]
  },
  {
   "cell_type": "markdown",
   "metadata": {},
   "source": [
    "#### Data Cleaning"
   ]
  },
  {
   "cell_type": "markdown",
   "metadata": {},
   "source": [
    "Cleaning column \"Posted On\""
   ]
  },
  {
   "cell_type": "code",
   "execution_count": 7,
   "metadata": {},
   "outputs": [
    {
     "data": {
      "text/plain": [
       "Posted On\n",
       "2022-07-06    265\n",
       "2022-05-12    129\n",
       "2022-06-04    120\n",
       "2022-05-27    110\n",
       "2022-07-09    109\n",
       "             ... \n",
       "2022-04-25      5\n",
       "2022-04-24      5\n",
       "2022-04-26      2\n",
       "2022-04-13      1\n",
       "2022-07-11      1\n",
       "Name: count, Length: 81, dtype: int64"
      ]
     },
     "execution_count": 7,
     "metadata": {},
     "output_type": "execute_result"
    }
   ],
   "source": [
    "df['Posted On'].value_counts()"
   ]
  },
  {
   "cell_type": "code",
   "execution_count": 8,
   "metadata": {},
   "outputs": [
    {
     "data": {
      "text/plain": [
       "array([nan, '2022-05-13', '2022-05-16', '2022-07-04', '2022-05-09',\n",
       "       '2022-04-29', '2022-06-21', '2022-06-07', '2022-05-23',\n",
       "       '2022-05-05', '2022-05-17', '2022-06-20', '2022-06-09',\n",
       "       '2022-06-14', '2022-05-28', '2022-05-22', '2022-06-25',\n",
       "       '2022-06-22', '2022-05-21', '2022-06-26', '2022-06-16',\n",
       "       '2022-06-29', '2022-05-10', '2022-05-12', '2022-05-31',\n",
       "       '2022-06-10', '2022-06-06', '2022-05-20', '2022-07-02',\n",
       "       '2022-07-03', '2022-04-23', '2022-05-14', '2022-05-27',\n",
       "       '2022-06-19', '2022-07-06', '2022-06-04', '2022-06-24',\n",
       "       '2022-05-18', '2022-05-30', '2022-06-18', '2022-06-08',\n",
       "       '2022-05-03', '2022-05-07', '2022-06-27', '2022-04-28',\n",
       "       '2022-06-28', '2022-06-23', '2022-06-13', '2022-05-15',\n",
       "       '2022-05-04', '2022-04-25', '2022-05-06', '2022-06-30',\n",
       "       '2022-07-01', '2022-06-17', '2022-05-26', '2022-05-11',\n",
       "       '2022-06-12', '2022-06-05', '2022-06-11', '2022-05-25',\n",
       "       '2022-06-01', '2022-04-30', '2022-05-24', '2022-05-19',\n",
       "       '2022-04-24', '2022-06-03', '2022-04-27', '2022-06-15',\n",
       "       '2022-05-08', '2022-04-26', '2022-06-02', '2022-05-29',\n",
       "       '2022-07-07', '2022-07-08', '2022-07-09', '2022-07-05',\n",
       "       '2022-04-13', '2022-05-02', '2022-05-01', '2022-07-10',\n",
       "       '2022-07-11'], dtype=object)"
      ]
     },
     "execution_count": 8,
     "metadata": {},
     "output_type": "execute_result"
    }
   ],
   "source": [
    "df['Posted On'].unique()"
   ]
  },
  {
   "cell_type": "code",
   "execution_count": 9,
   "metadata": {},
   "outputs": [],
   "source": [
    "df['Posted On'] = pd.to_datetime(df['Posted On'])"
   ]
  },
  {
   "cell_type": "code",
   "execution_count": 10,
   "metadata": {},
   "outputs": [],
   "source": [
    "df['Month'] = df['Posted On'].dt.month"
   ]
  },
  {
   "cell_type": "code",
   "execution_count": 11,
   "metadata": {},
   "outputs": [
    {
     "data": {
      "text/plain": [
       "np.float64(6.0)"
      ]
     },
     "execution_count": 11,
     "metadata": {},
     "output_type": "execute_result"
    }
   ],
   "source": [
    "df['Month'].mode()[0]"
   ]
  },
  {
   "cell_type": "code",
   "execution_count": 12,
   "metadata": {},
   "outputs": [],
   "source": [
    "df['Month']=df['Month'].fillna(df['Month'].mode()[0])"
   ]
  },
  {
   "cell_type": "code",
   "execution_count": 13,
   "metadata": {},
   "outputs": [
    {
     "data": {
      "text/plain": [
       "np.int64(0)"
      ]
     },
     "execution_count": 13,
     "metadata": {},
     "output_type": "execute_result"
    }
   ],
   "source": [
    "df['Month'].isna().sum()"
   ]
  },
  {
   "cell_type": "code",
   "execution_count": 14,
   "metadata": {},
   "outputs": [],
   "source": [
    "df = df.drop('Posted On' , axis=1)"
   ]
  },
  {
   "cell_type": "code",
   "execution_count": 15,
   "metadata": {},
   "outputs": [
    {
     "data": {
      "text/html": [
       "<div>\n",
       "<style scoped>\n",
       "    .dataframe tbody tr th:only-of-type {\n",
       "        vertical-align: middle;\n",
       "    }\n",
       "\n",
       "    .dataframe tbody tr th {\n",
       "        vertical-align: top;\n",
       "    }\n",
       "\n",
       "    .dataframe thead th {\n",
       "        text-align: right;\n",
       "    }\n",
       "</style>\n",
       "<table border=\"1\" class=\"dataframe\">\n",
       "  <thead>\n",
       "    <tr style=\"text-align: right;\">\n",
       "      <th></th>\n",
       "      <th>BHK</th>\n",
       "      <th>Size</th>\n",
       "      <th>Floor</th>\n",
       "      <th>Area Type</th>\n",
       "      <th>Area Locality</th>\n",
       "      <th>City</th>\n",
       "      <th>Furnishing Status</th>\n",
       "      <th>Tenant Preferred</th>\n",
       "      <th>Bathroom</th>\n",
       "      <th>Point of Contact</th>\n",
       "      <th>Rent</th>\n",
       "      <th>Month</th>\n",
       "    </tr>\n",
       "  </thead>\n",
       "  <tbody>\n",
       "    <tr>\n",
       "      <th>0</th>\n",
       "      <td>2.0</td>\n",
       "      <td>1100.0</td>\n",
       "      <td>NaN</td>\n",
       "      <td>Super Area</td>\n",
       "      <td>Bandel</td>\n",
       "      <td>India-! Kolkata</td>\n",
       "      <td>Unfurnished</td>\n",
       "      <td>Bach^elors/Fam.ily</td>\n",
       "      <td>2.0</td>\n",
       "      <td>Contact Owner</td>\n",
       "      <td>10000</td>\n",
       "      <td>6.0</td>\n",
       "    </tr>\n",
       "    <tr>\n",
       "      <th>1</th>\n",
       "      <td>2.0</td>\n",
       "      <td>800.0</td>\n",
       "      <td>1 out of 3</td>\n",
       "      <td>Super Area</td>\n",
       "      <td>Phool Bagan, Kankurgachi</td>\n",
       "      <td>India-! Kolkata</td>\n",
       "      <td>Semi-Furnished</td>\n",
       "      <td>Bachelors\\/Family*</td>\n",
       "      <td>NaN</td>\n",
       "      <td>NaN</td>\n",
       "      <td>20000</td>\n",
       "      <td>5.0</td>\n",
       "    </tr>\n",
       "    <tr>\n",
       "      <th>2</th>\n",
       "      <td>2.0</td>\n",
       "      <td>1000.0</td>\n",
       "      <td>1 out of 3</td>\n",
       "      <td>Super Area</td>\n",
       "      <td>Salt Lake City Sector 2</td>\n",
       "      <td>India-- Kolkata</td>\n",
       "      <td>Semi-Furnished</td>\n",
       "      <td>NaN</td>\n",
       "      <td>1.0</td>\n",
       "      <td>Contact Owner</td>\n",
       "      <td>17000</td>\n",
       "      <td>5.0</td>\n",
       "    </tr>\n",
       "    <tr>\n",
       "      <th>3</th>\n",
       "      <td>2.0</td>\n",
       "      <td>800.0</td>\n",
       "      <td>1 out of 2</td>\n",
       "      <td>Super Area</td>\n",
       "      <td>NaN</td>\n",
       "      <td>NaN</td>\n",
       "      <td>Unfurnished</td>\n",
       "      <td>Bachel]ors/F@amily</td>\n",
       "      <td>1.0</td>\n",
       "      <td>NaN</td>\n",
       "      <td>10000</td>\n",
       "      <td>7.0</td>\n",
       "    </tr>\n",
       "    <tr>\n",
       "      <th>4</th>\n",
       "      <td>2.0 room</td>\n",
       "      <td>850.0</td>\n",
       "      <td>1 out of 2</td>\n",
       "      <td>Carpet Area</td>\n",
       "      <td>South Dum Dum</td>\n",
       "      <td>India-^ Kolkata</td>\n",
       "      <td>Unfurnished</td>\n",
       "      <td>Bache[lors&amp;</td>\n",
       "      <td>1.0</td>\n",
       "      <td>Contact Owner</td>\n",
       "      <td>7500</td>\n",
       "      <td>5.0</td>\n",
       "    </tr>\n",
       "  </tbody>\n",
       "</table>\n",
       "</div>"
      ],
      "text/plain": [
       "        BHK    Size       Floor    Area Type             Area Locality  \\\n",
       "0       2.0  1100.0         NaN   Super Area                    Bandel   \n",
       "1       2.0   800.0  1 out of 3   Super Area  Phool Bagan, Kankurgachi   \n",
       "2       2.0  1000.0  1 out of 3   Super Area   Salt Lake City Sector 2   \n",
       "3       2.0   800.0  1 out of 2   Super Area                       NaN   \n",
       "4  2.0 room   850.0  1 out of 2  Carpet Area             South Dum Dum   \n",
       "\n",
       "              City Furnishing Status    Tenant Preferred Bathroom  \\\n",
       "0  India-! Kolkata       Unfurnished  Bach^elors/Fam.ily      2.0   \n",
       "1  India-! Kolkata    Semi-Furnished  Bachelors\\/Family*      NaN   \n",
       "2  India-- Kolkata    Semi-Furnished                 NaN      1.0   \n",
       "3              NaN       Unfurnished  Bachel]ors/F@amily      1.0   \n",
       "4  India-^ Kolkata       Unfurnished         Bache[lors&      1.0   \n",
       "\n",
       "  Point of Contact   Rent  Month  \n",
       "0    Contact Owner  10000    6.0  \n",
       "1              NaN  20000    5.0  \n",
       "2    Contact Owner  17000    5.0  \n",
       "3              NaN  10000    7.0  \n",
       "4    Contact Owner   7500    5.0  "
      ]
     },
     "execution_count": 15,
     "metadata": {},
     "output_type": "execute_result"
    }
   ],
   "source": [
    "df.head()"
   ]
  },
  {
   "cell_type": "markdown",
   "metadata": {},
   "source": [
    "Cleaning column \"BHK\""
   ]
  },
  {
   "cell_type": "code",
   "execution_count": 16,
   "metadata": {},
   "outputs": [
    {
     "data": {
      "text/plain": [
       "array(['2.0', '2.0 room', '1.0', nan, '3.0', '1.0 room', '6.0', '4.0',\n",
       "       '3.0 room', '5.0', '5.0 room', '4.0 room', '6.0 room'],\n",
       "      dtype=object)"
      ]
     },
     "execution_count": 16,
     "metadata": {},
     "output_type": "execute_result"
    }
   ],
   "source": [
    "df['BHK'].unique()"
   ]
  },
  {
   "cell_type": "code",
   "execution_count": 17,
   "metadata": {},
   "outputs": [
    {
     "data": {
      "text/plain": [
       "np.int64(783)"
      ]
     },
     "execution_count": 17,
     "metadata": {},
     "output_type": "execute_result"
    }
   ],
   "source": [
    "df['BHK'].isna().sum()"
   ]
  },
  {
   "cell_type": "code",
   "execution_count": 18,
   "metadata": {},
   "outputs": [],
   "source": [
    "df['BHK']=df['BHK'].str.replace('[a-zA-Z]' , \"\" , regex=True).str.strip()"
   ]
  },
  {
   "cell_type": "code",
   "execution_count": 19,
   "metadata": {},
   "outputs": [],
   "source": [
    "df['BHK'] = df['BHK'].astype('float')"
   ]
  },
  {
   "cell_type": "code",
   "execution_count": 20,
   "metadata": {},
   "outputs": [],
   "source": [
    "df['BHK'] = df['BHK'].fillna(df['BHK'].median())"
   ]
  },
  {
   "cell_type": "code",
   "execution_count": 21,
   "metadata": {},
   "outputs": [
    {
     "data": {
      "text/plain": [
       "np.int64(0)"
      ]
     },
     "execution_count": 21,
     "metadata": {},
     "output_type": "execute_result"
    }
   ],
   "source": [
    "df['BHK'].isna().sum()"
   ]
  },
  {
   "cell_type": "code",
   "execution_count": 22,
   "metadata": {},
   "outputs": [
    {
     "data": {
      "text/html": [
       "<div>\n",
       "<style scoped>\n",
       "    .dataframe tbody tr th:only-of-type {\n",
       "        vertical-align: middle;\n",
       "    }\n",
       "\n",
       "    .dataframe tbody tr th {\n",
       "        vertical-align: top;\n",
       "    }\n",
       "\n",
       "    .dataframe thead th {\n",
       "        text-align: right;\n",
       "    }\n",
       "</style>\n",
       "<table border=\"1\" class=\"dataframe\">\n",
       "  <thead>\n",
       "    <tr style=\"text-align: right;\">\n",
       "      <th></th>\n",
       "      <th>BHK</th>\n",
       "      <th>Size</th>\n",
       "      <th>Floor</th>\n",
       "      <th>Area Type</th>\n",
       "      <th>Area Locality</th>\n",
       "      <th>City</th>\n",
       "      <th>Furnishing Status</th>\n",
       "      <th>Tenant Preferred</th>\n",
       "      <th>Bathroom</th>\n",
       "      <th>Point of Contact</th>\n",
       "      <th>Rent</th>\n",
       "      <th>Month</th>\n",
       "    </tr>\n",
       "  </thead>\n",
       "  <tbody>\n",
       "    <tr>\n",
       "      <th>0</th>\n",
       "      <td>2.0</td>\n",
       "      <td>1100.0</td>\n",
       "      <td>NaN</td>\n",
       "      <td>Super Area</td>\n",
       "      <td>Bandel</td>\n",
       "      <td>India-! Kolkata</td>\n",
       "      <td>Unfurnished</td>\n",
       "      <td>Bach^elors/Fam.ily</td>\n",
       "      <td>2.0</td>\n",
       "      <td>Contact Owner</td>\n",
       "      <td>10000</td>\n",
       "      <td>6.0</td>\n",
       "    </tr>\n",
       "    <tr>\n",
       "      <th>1</th>\n",
       "      <td>2.0</td>\n",
       "      <td>800.0</td>\n",
       "      <td>1 out of 3</td>\n",
       "      <td>Super Area</td>\n",
       "      <td>Phool Bagan, Kankurgachi</td>\n",
       "      <td>India-! Kolkata</td>\n",
       "      <td>Semi-Furnished</td>\n",
       "      <td>Bachelors\\/Family*</td>\n",
       "      <td>NaN</td>\n",
       "      <td>NaN</td>\n",
       "      <td>20000</td>\n",
       "      <td>5.0</td>\n",
       "    </tr>\n",
       "    <tr>\n",
       "      <th>2</th>\n",
       "      <td>2.0</td>\n",
       "      <td>1000.0</td>\n",
       "      <td>1 out of 3</td>\n",
       "      <td>Super Area</td>\n",
       "      <td>Salt Lake City Sector 2</td>\n",
       "      <td>India-- Kolkata</td>\n",
       "      <td>Semi-Furnished</td>\n",
       "      <td>NaN</td>\n",
       "      <td>1.0</td>\n",
       "      <td>Contact Owner</td>\n",
       "      <td>17000</td>\n",
       "      <td>5.0</td>\n",
       "    </tr>\n",
       "    <tr>\n",
       "      <th>3</th>\n",
       "      <td>2.0</td>\n",
       "      <td>800.0</td>\n",
       "      <td>1 out of 2</td>\n",
       "      <td>Super Area</td>\n",
       "      <td>NaN</td>\n",
       "      <td>NaN</td>\n",
       "      <td>Unfurnished</td>\n",
       "      <td>Bachel]ors/F@amily</td>\n",
       "      <td>1.0</td>\n",
       "      <td>NaN</td>\n",
       "      <td>10000</td>\n",
       "      <td>7.0</td>\n",
       "    </tr>\n",
       "    <tr>\n",
       "      <th>4</th>\n",
       "      <td>2.0</td>\n",
       "      <td>850.0</td>\n",
       "      <td>1 out of 2</td>\n",
       "      <td>Carpet Area</td>\n",
       "      <td>South Dum Dum</td>\n",
       "      <td>India-^ Kolkata</td>\n",
       "      <td>Unfurnished</td>\n",
       "      <td>Bache[lors&amp;</td>\n",
       "      <td>1.0</td>\n",
       "      <td>Contact Owner</td>\n",
       "      <td>7500</td>\n",
       "      <td>5.0</td>\n",
       "    </tr>\n",
       "  </tbody>\n",
       "</table>\n",
       "</div>"
      ],
      "text/plain": [
       "   BHK    Size       Floor    Area Type             Area Locality  \\\n",
       "0  2.0  1100.0         NaN   Super Area                    Bandel   \n",
       "1  2.0   800.0  1 out of 3   Super Area  Phool Bagan, Kankurgachi   \n",
       "2  2.0  1000.0  1 out of 3   Super Area   Salt Lake City Sector 2   \n",
       "3  2.0   800.0  1 out of 2   Super Area                       NaN   \n",
       "4  2.0   850.0  1 out of 2  Carpet Area             South Dum Dum   \n",
       "\n",
       "              City Furnishing Status    Tenant Preferred Bathroom  \\\n",
       "0  India-! Kolkata       Unfurnished  Bach^elors/Fam.ily      2.0   \n",
       "1  India-! Kolkata    Semi-Furnished  Bachelors\\/Family*      NaN   \n",
       "2  India-- Kolkata    Semi-Furnished                 NaN      1.0   \n",
       "3              NaN       Unfurnished  Bachel]ors/F@amily      1.0   \n",
       "4  India-^ Kolkata       Unfurnished         Bache[lors&      1.0   \n",
       "\n",
       "  Point of Contact   Rent  Month  \n",
       "0    Contact Owner  10000    6.0  \n",
       "1              NaN  20000    5.0  \n",
       "2    Contact Owner  17000    5.0  \n",
       "3              NaN  10000    7.0  \n",
       "4    Contact Owner   7500    5.0  "
      ]
     },
     "execution_count": 22,
     "metadata": {},
     "output_type": "execute_result"
    }
   ],
   "source": [
    "df.head()"
   ]
  },
  {
   "cell_type": "markdown",
   "metadata": {},
   "source": [
    "Cleaning column \"Size\""
   ]
  },
  {
   "cell_type": "code",
   "execution_count": 23,
   "metadata": {},
   "outputs": [
    {
     "data": {
      "text/plain": [
       "array(['1100.0', '800.0', '1000.0', '850.0', '600.0', '700.0', '250.0',\n",
       "       nan, '1200.0', '400.0', '375.0', '900.0', '1286.0', '2000.0',\n",
       "       '650.0', '300.0', '1600.0', '355.0', '350.0', '550.0', '500.0',\n",
       "       '630.0', '270.0', '1500.0', '1068.0', '150.0', '450.0', '720.0',\n",
       "       '680.0', '950.0', '1800.0', '480.0', '435.0', '1300.0', '1450.0',\n",
       "       '750.0', '220.0', '20.0', '200.0', '840.0', '740.0', '490.0',\n",
       "       '280.0', '120.0', '1220.0', '670.0', '240.0', '2200.0', '685.0',\n",
       "       '44.0', '392.0', '710.0', '1400.0', '160.0', '1250.0', '839.0',\n",
       "       '230.0', '620.0', '1350.0Square Feet', '723.0', '320.0', '2160.0',\n",
       "       '1700.0', '130.0', '505.0', '4000.0', '1190.0', '1012.0', '812.0',\n",
       "       '420.0', '1750.0', '830.0', '1050.0', '960.0', '756.0', '288.0',\n",
       "       '1600.0Square Feet', '986.0', '322.0', '957.0', '1430.0', '1320.0',\n",
       "       '650.0Square Feet', '475.0', '550.0Square Feet', '570.0', '460.0',\n",
       "       '530.0', '850.0Square Feet', '558.0', '175.0', '721.0', '2210.0',\n",
       "       '675.0', '1880.0', '640.0', '518.0', '777.0', '2308.0', '890.0',\n",
       "       '888.0', '275.0', '424.0', '610.0', '722.0', '1150.0', '470.0',\n",
       "       '410.0', '435.0Square Feet', '932.0', '560.0', '3000.0', '751.0',\n",
       "       '696.0', '2500.0', '715.0', '1337.0', '737.0', '760.0', '365.0',\n",
       "       '2000.0Square Feet', '1330.0', '2600.0', '1783.0', '565.0',\n",
       "       '1080.0', '825.0', '1545.0', '780.0', '695.0', '1095.0', '790.0',\n",
       "       '661.0', '1350.0', '330.0', '925.0', '1105.0', '1460.0', '415.0',\n",
       "       '1755.0', '628.0', '1064.0', '845.0', '1915.0', '807.0',\n",
       "       '1100.0Square Feet', '380.0', '428.0', '1550.0', '860.0', '433.0',\n",
       "       '1225.0', '1650.0', '305.0', '690.0', '635.0', '935.0', '535.0',\n",
       "       '3700.0', '1208.0', '3200.0', '225.0', '1900.0', '905.0', '430.0',\n",
       "       '795.0', '575.0', '656.0', '719.0', '3064.0', '3400.0', '980.0',\n",
       "       '413.0', '1850.0', '1705.0', '1355.0', '610.0Square Feet', '471.0',\n",
       "       '1528.0Square Feet', '1030.0', '583.0', '806.0', '390.0', '994.0',\n",
       "       '520.0', '2750.0', '2424.0', '724.0', '1076.0', '485.0', '385.0',\n",
       "       '704.0', '755.0', '700.0Square Feet', '625.0', '805.0', '742.0',\n",
       "       '1265.0', '325.0', '1233.0', '2120.0', '1937.0', '596.0', '1950.0',\n",
       "       '510.0', '1260.0', '770.0', '3900.0', '660.0Square Feet', '694.0',\n",
       "       '1740.0', '472.0', '421.0', '831.0', '753.0', '2800.0', '1197.0',\n",
       "       '880.0', '1088.0', '2650.0', '975.0', '1325.0', '785.0', '1016.0',\n",
       "       '508.0', '623.0', '1358.0', '1255.0', '450.0Square Feet', '870.0',\n",
       "       '1691.0', '615.0', '663.0', '1432.0', '425.0', '649.0', '882.0',\n",
       "       '1710.0', '555.0', '854.0', '1130.0', '495.0', '407.0', '1092.0',\n",
       "       '669.0', '725.0', '1110.0Square Feet', '1110.0', '999.0', '1256.0',\n",
       "       '889.0', '660.0', '434.0', '1121.0', '937.0', '360.0', '379.0',\n",
       "       '440.0', '582.0', '444.0', '1617.0', '836.0', '585.0', '2046.0',\n",
       "       '730.0', '229.0', '910.0', '1648.0', '820.0', '771.0', '465.0',\n",
       "       '1073.0', '310.0Square Feet', '1649.0', '1560.0',\n",
       "       '4500.0Square Feet', '1425.0Square Feet', '1375.0', '920.0',\n",
       "       '265.0', '1663.0', '377.0', '2080.0', '965.0', '2100.0Square Feet',\n",
       "       '1380.0', '540.0', '500.0Square Feet', '970.0', '340.0', '641.0',\n",
       "       '810.0', '875.0', '758.0', '2880.0', '1962.0', '590.0', '1120.0',\n",
       "       '2729.0', '1040.0', '1403.0', '2608.0', '1400.0Square Feet',\n",
       "       '1045.0', '1021.0', '1155.0', '2900.0', '3150.0',\n",
       "       '100.0Square Feet', '1771.0', '773.0', '1840.0', '990.0', '1360.0',\n",
       "       '1757.0', '1281.0', '3500.0', '1221.0', '416.0', '976.0', '1387.0',\n",
       "       '1020.0', '400.0Square Feet', '1645.0', '3276.0', '1893.0',\n",
       "       '1296.0', '455.0', '1066.0', '2150.0', '2110.0', '1025.0',\n",
       "       '1180.0', '580.0', '904.0', '1252.0', '144.0', '1005.0', '1274.0',\n",
       "       '1480.0', '4500.0', '600.0Square Feet', '1115.0', '1278.0',\n",
       "       '4105.0', '1055.0', '800.0Square Feet', '1603.0',\n",
       "       '1900.0Square Feet', '894.0', '2400.0', '1200.0Square Feet',\n",
       "       '1680.0', '1475.0', '2100.0', '4341.0', '846.0', '110.0', '5700.0',\n",
       "       '1760.0', '775.0', '445.0', '2710.0', '1768.0', '1280.0', '532.0',\n",
       "       '1465.0', '940.0', '1789.0', '1618.0', '1580.0', '4550.0',\n",
       "       '1333.0', '1875.0', '1065.0', '1660.0', '625.0Square Feet',\n",
       "       '100.0', '1305.0', '1188.0', '2390.0', '1788.0', '1520.0',\n",
       "       '1464.0', '180.0', '140.0', '70.0', '60.0', '170.0', '48.0',\n",
       "       '1901.0', '145.0', '25.0', '892.0', '80.0', '45.0', '75.0',\n",
       "       '1125.0', '50.0', '63.0', '1440.0', '55.0', '65.0', '2300.0',\n",
       "       '84.0', '90.0', '446.0', '125.0', '2700.0', '30.0', '497.0',\n",
       "       '95.0', '272.0', '585.0Square Feet', '2925.0', '96.0',\n",
       "       '1800.0Square Feet', '545.0', '165.0', '1872.0', '40.0', '42.0',\n",
       "       '3800.0', '1205.0', '950.0Square Feet', '900.0Square Feet', '77.0',\n",
       "       '1000.0Square Feet', '1428.0', '2117.0', '1462.0', '674.0',\n",
       "       '1540.0', '985.0', '930.0', '1234.0', '1162.0', '1425.0', '1145.0',\n",
       "       '3600.0', '898.0', '2036.0', '115.0', '2064.0', '1557.0', '917.0',\n",
       "       '579.0Square Feet', '1920.0', '1002.0', '778.0', '1567.0',\n",
       "       '1113.0', '1175.0', '618.0', '705.0', '901.0', '1340.0', '1246.0',\n",
       "       '1530.0', '1780.0', '1500.0Square Feet', '1402.0Square Feet',\n",
       "       '1484.0', '1065.0Square Feet', '1140.0', '1525.0', '2550.0',\n",
       "       '1132.0', '3300.0', '1785.0', '985.0Square Feet', '1975.0',\n",
       "       '914.0', '1170.0Square Feet', '1444.0', '1503.0', '966.0',\n",
       "       '2900.0Square Feet', '1570.0', '1157.0', '1153.0', '506.0',\n",
       "       '749.0', '1107.0', '1235.0', '1415.0', '281.0', '6000.0', '926.0',\n",
       "       '2280.0', '826.0', '1050.0Square Feet', '745.0', '833.0', '809.0',\n",
       "       '1062.0', '2240.0', '1424.0', '1075.0', '2317.0', '1109.0',\n",
       "       '1290.0', '939.0', '1610.0', '1420.0', '1152.0', '1144.0',\n",
       "       '1903.0', '1383.0', '1912.0', '1146.0', '909.0',\n",
       "       '1570.0Square Feet', '750.0Square Feet', '1270.0', '1625.0',\n",
       "       '1535.0', '647.0', '2061.0', '919.0', '2210.0Square Feet',\n",
       "       '1815.0', '2430.0', '1210.0', '1010.0', '2290.0', '1473.0',\n",
       "       '4050.0Square Feet', '2520.0', '242.0', '1725.0', '878.0',\n",
       "       '1956.0', '1955.0', '1090.0', '1070.0', '3133.0', '2050.0',\n",
       "       '1565.0', '1135.0', '3698.0', '2405.0', '1248.0', '3115.0',\n",
       "       '1374.0', '927.0', '562.0', '1720.0', '103.0', '1730.0', '133.0',\n",
       "       '1315.0', '1230.0', '4761.0', '1970.0', '1940.0', '1170.0',\n",
       "       '167.0', '933.0', '1960.0', '1275.0', '1285.0', '1742.0', '2235.0',\n",
       "       '1283.0', '3455.0', '3050.0', '7000.0', '1606.0', '2352.0',\n",
       "       '2671.0', '1156.0', '67.0', '1060.0', '2780.0', '1685.0', '853.0',\n",
       "       '2310.0', '1965.0', '1834.0', '10.0', '3789.0', '1160.0', '1422.0',\n",
       "       '1124.0', '4200.0', '3250.0', '214.0', '855.0'], dtype=object)"
      ]
     },
     "execution_count": 23,
     "metadata": {},
     "output_type": "execute_result"
    }
   ],
   "source": [
    "df['Size'].unique()"
   ]
  },
  {
   "cell_type": "code",
   "execution_count": 24,
   "metadata": {},
   "outputs": [],
   "source": [
    "df['Size']=df['Size'].str.replace('[a-zA-Z]' , \"\" , regex=True).str.strip()"
   ]
  },
  {
   "cell_type": "code",
   "execution_count": 25,
   "metadata": {},
   "outputs": [],
   "source": [
    "df['Size'] = df['Size'].astype('float')"
   ]
  },
  {
   "cell_type": "code",
   "execution_count": 26,
   "metadata": {},
   "outputs": [],
   "source": [
    "df['Size'] = df['Size'].fillna(df['Size'].median())"
   ]
  },
  {
   "cell_type": "code",
   "execution_count": 27,
   "metadata": {},
   "outputs": [
    {
     "data": {
      "text/plain": [
       "np.int64(0)"
      ]
     },
     "execution_count": 27,
     "metadata": {},
     "output_type": "execute_result"
    }
   ],
   "source": [
    "df['Size'].isna().sum()"
   ]
  },
  {
   "cell_type": "markdown",
   "metadata": {},
   "source": [
    "Cleaning column \"Floor\""
   ]
  },
  {
   "cell_type": "code",
   "execution_count": 28,
   "metadata": {},
   "outputs": [
    {
     "data": {
      "text/plain": [
       "array([nan, '1 out of 3', '1 out of 2', 'Ground out of 1',\n",
       "       'Ground out of 4', '1 out of 4', '1 out of 1', 'Ground out of 2',\n",
       "       'Ground out of 3', '2 out of 3', '4 out of 5', '2 out of 2',\n",
       "       '2 out of 5', '3 out of 3', '5 out of 5', '4 out of 4',\n",
       "       '7 out of 8', '2 out of 4', '3 out of 4', '1 out of 5',\n",
       "       'Ground out of 6', 'Upper Basement out of 4', 'Ground out of 5',\n",
       "       '3 out of 5', '11 out of 19', '5 out of 10', '11 out of 14',\n",
       "       'Lower Basement out of 2', '2 out of 7', '4 out of 10',\n",
       "       '7 out of 10', '2 out of 13', '6 out of 7', '4 out of 7',\n",
       "       '14 out of 14', '43 out of 78', '2 out of 8', '13 out of 18',\n",
       "       '18 out of 24', '3 out of 7', '17 out of 31', '11 out of 21',\n",
       "       '14 out of 23', '19 out of 24', '3 out of 21', '8 out of 8',\n",
       "       '6 out of 12', '4 out of 58', '60 out of 66', '34 out of 48',\n",
       "       '5 out of 8', '14 out of 40', '5 out of 7', '26 out of 44',\n",
       "       '1 out of 8', '25 out of 42', '25 out of 41', '53 out of 78',\n",
       "       'Ground out of 7', '14 out of 20', '16 out of 23', '39 out of 60',\n",
       "       '16 out of 21', '10 out of 32', '4 out of 8', '12 out of 24',\n",
       "       '32 out of 41', '13 out of 21', '47 out of 89', '7 out of 41',\n",
       "       '28 out of 30', '13 out of 15', '6 out of 21', '8 out of 16',\n",
       "       '5 out of 19', '3 out of 11', '17 out of 42', '8 out of 28',\n",
       "       '9 out of 15', '14 out of 22', '18 out of 40', '9 out of 17',\n",
       "       '12 out of 45', '25 out of 35', '4 out of 14', '2 out of 6',\n",
       "       'Upper Basement out of 20', '5 out of 14',\n",
       "       'Upper Basement out of 9', '5 out of 20',\n",
       "       'Upper Basement out of 40', '5 out of 18', '34 out of 58',\n",
       "       '4 out of 6', '20 out of 22', '12 out of 19', '15 out of 18',\n",
       "       '65 out of 78', '6 out of 16', '17 out of 22', '6 out of 24',\n",
       "       '40 out of 75', '19 out of 38', '11 out of 28', '17 out of 24',\n",
       "       '15 out of 19', '9 out of 10', '7 out of 12', '8 out of 20',\n",
       "       '11 out of 13', '9 out of 19', '37 out of 51', '6 out of 11',\n",
       "       '8 out of 15', '11 out of 20', '10 out of 23',\n",
       "       'Upper Basement out of 10', '4 out of 11', '17 out of 43',\n",
       "       '7 out of 22', '14 out of 18', '6 out of 10', '8 out of 12',\n",
       "       '3 out of 18', '7 out of 7', '14 out of 58', '18 out of 23',\n",
       "       '19 out of 19', '9 out of 20', '13 out of 14', '11 out of 22',\n",
       "       'Upper Basement out of 30', '12 out of 14', '12 out of 13',\n",
       "       '2 out of 12', '9 out of 22', '7 out of 14', '10 out of 22',\n",
       "       '10 out of 12', '5 out of 13', '7 out of 21', '14 out of 21',\n",
       "       '17 out of 25', '9 out of 14', '8 out of 27', '3 out of 6',\n",
       "       '17 out of 20', '18 out of 22', '9 out of 30', '3 out of 8',\n",
       "       '17 out of 27', '4 out of 12', '10 out of 24', '65 out of 76',\n",
       "       '1 out of 7', '7 out of 9', '17 out of 60', '10 out of 16',\n",
       "       '18 out of 25', '5 out of 11', '15 out of 17', '15 out of 23',\n",
       "       '5 out of 17', '3 out of 28', '16 out of 32', '21 out of 22',\n",
       "       '7 out of 13', '9 out of 12', '15 out of 32', '18 out of 27',\n",
       "       '15 out of 16', '18 out of 45', '15 out of 15', '6 out of 14',\n",
       "       '16 out of 36', '30 out of 44', '30 out of 37', '2 out of 9',\n",
       "       '12 out of 22', '4 out of 9', '2 out of 22', '5 out of 6',\n",
       "       '6 out of 18', '35 out of 55', '30 out of 45', '5 out of 12',\n",
       "       '5 out of 9', '13 out of 23', '9 out of 38', '8 out of 13',\n",
       "       '11 out of 24', '9 out of 16', '9 out of 31', '7 out of 15',\n",
       "       '3 out of 9', '22 out of 30', '3 out of 58', '4 out of 15',\n",
       "       '6 out of 8', '53 out of 60', '5 out of 22', '15 out of 22',\n",
       "       '19 out of 21', '9 out of 40', 'Ground out of 8', '44 out of 75',\n",
       "       '8 out of 17', '3 out of 14', '12 out of 31', '26 out of 42',\n",
       "       '2 out of 45', '12 out of 68', '17 out of 36', '41 out of 41',\n",
       "       '14 out of 68', '14 out of 17', '46 out of 76', '12 out of 20',\n",
       "       '18 out of 32', '10 out of 25', '17 out of 29', '10 out of 31',\n",
       "       '10 out of 15', '13 out of 16', '8 out of 10', '18 out of 21',\n",
       "       '27 out of 58', '1 out of 6', '19 out of 25', '3 out of 15',\n",
       "       '25 out of 43', '10 out of 14', '12 out of 18', '8 out of 14',\n",
       "       '11 out of 12', '10 out of 13', '18 out of 19', '10 out of 20',\n",
       "       '12 out of 29', '10 out of 18', 'Lower Basement out of 18',\n",
       "       '48 out of 68', '12 out of 42', '15 out of 20', '16 out of 22',\n",
       "       '35 out of 68', '18 out of 30', '11 out of 31', '50 out of 75',\n",
       "       '18 out of 26', '12 out of 27', '16 out of 20', '24 out of 55',\n",
       "       '16 out of 37', 'Upper Basement out of 7', '6 out of 15',\n",
       "       '11 out of 27', '11 out of 23', '3 out of 12', '14 out of 48',\n",
       "       '29 out of 35', '15 out of 36', '15 out of 25', '15 out of 28',\n",
       "       '8 out of 11', '6 out of 20', '23 out of 23', '5 out of 15',\n",
       "       '16 out of 18', '2 out of 10', '40 out of 50', '34 out of 40',\n",
       "       'Upper Basement out of 22', '8 out of 23', '5 out of 21',\n",
       "       '20 out of 32', '9 out of 18', '10 out of 37', '25 out of 48',\n",
       "       '4 out of 22', '11 out of 11', '5 out of 23', '11 out of 18',\n",
       "       '4 out of 20', '3 out of 13', '30 out of 58', '10 out of 11',\n",
       "       '15 out of 43', '7 out of 16', 'Upper Basement out of 16',\n",
       "       '9 out of 55', '11 out of 25', '7 out of 27', '14 out of 27',\n",
       "       '16 out of 27', '25 out of 50', '6 out of 30', '21 out of 23',\n",
       "       '20 out of 41', '3 out of 62', '4 out of 13', '7 out of 17',\n",
       "       '12 out of 21', '15 out of 58', '36 out of 45', '9 out of 28',\n",
       "       '22 out of 52', '10 out of 19', '21 out of 58', '48 out of 54',\n",
       "       '11 out of 15', '8 out of 18', '19 out of 22', '15 out of 37',\n",
       "       '7 out of 23', '2 out of 17', '5 out of 16', '76 out of 78',\n",
       "       '3 out of 10', '20 out of 27', '8 out of 36', '14 out of 33',\n",
       "       '21 out of 21', '12 out of 25', '18 out of 29', '14 out of 35',\n",
       "       '7 out of 20', '20 out of 37', '9 out of 35', '27 out of 27',\n",
       "       '19 out of 33', '18 out of 20', '13 out of 40', '15 out of 60',\n",
       "       '9 out of 11', '8 out of 22', '27 out of 45', '19 out of 20',\n",
       "       '32 out of 46', '19 out of 85', '3 out of 23', '34 out of 46',\n",
       "       '15 out of 24', '4 out of 27', '19 out of 27', '35 out of 60',\n",
       "       '9 out of 21', '21 out of 33', '2 out of 24', '24 out of 24',\n",
       "       '18 out of 33', '1 out of 10', '45 out of 60', '60 out of 71',\n",
       "       '36 out of 81', '24 out of 60', '16 out of 38', '8 out of 45',\n",
       "       'Ground out of 16', '8 out of 32', '10 out of 10', '7 out of 19',\n",
       "       '23 out of 40', '7 out of 18', '8 out of 19', '6 out of 17',\n",
       "       '16 out of 34', 'Ground out of 12', '6 out of 9',\n",
       "       'Ground out of 18', '20 out of 25', '9 out of 32', '26 out of 32',\n",
       "       '12 out of 16', '17 out of 18', '24 out of 25', '19 out of 26',\n",
       "       '17 out of 19', '14 out of 30', '8 out of 9', '1 out of 9',\n",
       "       '3 out of 17', '12 out of 23', '1 out of 24', '1 out of 12', '3',\n",
       "       '15 out of 29', '20 out of 20', '14 out of 29',\n",
       "       'Lower Basement out of 1', '13 out of 17', '1 out of 14',\n",
       "       '2 out of 14', '7 out of 11', '24 out of 31', '4 out of 16',\n",
       "       '2 out of 16', '9 out of 13', '1 out of 11', '6 out of 29',\n",
       "       '9 out of 9', '1 out of 15', 'Ground out of 14', '19 out of 31',\n",
       "       '1 out of 16', '25 out of 32', '11 out of 16', '11 out of 17',\n",
       "       'Upper Basement out of 3', '4 out of 24', '7 out of 30',\n",
       "       'Ground out of 13', '2 out of 25', '23 out of 30', '4 out of 30',\n",
       "       '13 out of 25', '23 out of 35', 'Ground out of 10', '5 out of 34',\n",
       "       '12 out of 17', '20 out of 35', '1', '4 out of 31', '4 out of 26',\n",
       "       '4 out of 17', '1 out of 35', '11 out of 35', 'Ground out of 15',\n",
       "       'Ground out of 27', '15 out of 30', '12 out of 30',\n",
       "       'Upper Basement out of 2', '6 out of 13', '23 out of 34'],\n",
       "      dtype=object)"
      ]
     },
     "execution_count": 28,
     "metadata": {},
     "output_type": "execute_result"
    }
   ],
   "source": [
    "df['Floor'].unique()"
   ]
  },
  {
   "cell_type": "code",
   "execution_count": 29,
   "metadata": {},
   "outputs": [],
   "source": [
    "df = df.drop('Floor' , axis=1)"
   ]
  },
  {
   "cell_type": "markdown",
   "metadata": {},
   "source": [
    "Cleaning column \"Area Type\""
   ]
  },
  {
   "cell_type": "code",
   "execution_count": 30,
   "metadata": {},
   "outputs": [
    {
     "data": {
      "text/plain": [
       "array(['Super Area', 'Carpet Area', nan, 'CARPET AREA', 'SUPER AREA',\n",
       "       'Built Area'], dtype=object)"
      ]
     },
     "execution_count": 30,
     "metadata": {},
     "output_type": "execute_result"
    }
   ],
   "source": [
    "df['Area Type'].unique()"
   ]
  },
  {
   "cell_type": "code",
   "execution_count": 31,
   "metadata": {},
   "outputs": [],
   "source": [
    "df['Area Type'] = df['Area Type'].str.lower()"
   ]
  },
  {
   "cell_type": "code",
   "execution_count": 32,
   "metadata": {},
   "outputs": [
    {
     "data": {
      "text/plain": [
       "array(['super area', 'carpet area', nan, 'built area'], dtype=object)"
      ]
     },
     "execution_count": 32,
     "metadata": {},
     "output_type": "execute_result"
    }
   ],
   "source": [
    "df['Area Type'].unique()"
   ]
  },
  {
   "cell_type": "code",
   "execution_count": 33,
   "metadata": {},
   "outputs": [
    {
     "data": {
      "text/plain": [
       "np.int64(942)"
      ]
     },
     "execution_count": 33,
     "metadata": {},
     "output_type": "execute_result"
    }
   ],
   "source": [
    "df['Area Type'].isna().sum()"
   ]
  },
  {
   "cell_type": "code",
   "execution_count": 34,
   "metadata": {},
   "outputs": [
    {
     "data": {
      "text/plain": [
       "Area Type\n",
       "super area     1978\n",
       "carpet area    1824\n",
       "built area        2\n",
       "Name: count, dtype: int64"
      ]
     },
     "execution_count": 34,
     "metadata": {},
     "output_type": "execute_result"
    }
   ],
   "source": [
    "df['Area Type'].value_counts()"
   ]
  },
  {
   "cell_type": "code",
   "execution_count": 35,
   "metadata": {},
   "outputs": [],
   "source": [
    "df = fill_NAN_with_percentage(df ,'Area Type' )"
   ]
  },
  {
   "cell_type": "code",
   "execution_count": 36,
   "metadata": {},
   "outputs": [
    {
     "data": {
      "text/plain": [
       "np.int64(0)"
      ]
     },
     "execution_count": 36,
     "metadata": {},
     "output_type": "execute_result"
    }
   ],
   "source": [
    "df['Area Type'].isna().sum()"
   ]
  },
  {
   "cell_type": "markdown",
   "metadata": {},
   "source": [
    "Cleaning column \"Area Locality\""
   ]
  },
  {
   "cell_type": "code",
   "execution_count": null,
   "metadata": {},
   "outputs": [],
   "source": []
  },
  {
   "cell_type": "markdown",
   "metadata": {},
   "source": [
    "Cleaning column \"City\""
   ]
  },
  {
   "cell_type": "code",
   "execution_count": 37,
   "metadata": {},
   "outputs": [
    {
     "data": {
      "text/plain": [
       "array(['India-! Kolkata', 'India-- Kolkata', nan, 'India-^ Kolkata',\n",
       "       'India-\\\\ Kolkata', 'India-% Kolkata', ',-9 Kolkata',\n",
       "       'India-/ Kolkata', '(-9 Kolkata', '^-9 Kolkata', '--9 Kolkata',\n",
       "       'India-* Kolkata', 'India-; Kolkata', 'India-. Kolkata',\n",
       "       '!-9 Kolkata', ':-9 Kolkata', '\\\\-9 Kolkata', ';-9 Kolkata',\n",
       "       'India-> Kolkata', '.-9 Kolkata', 'India-@ Kolkata',\n",
       "       'India-{ Kolkata', 'India-[ Kolkata', 'India-| Kolkata',\n",
       "       'India-} Kolkata', '\"-9 Kolkata', '|-9 Kolkata', \"'-9 Kolkata\",\n",
       "       '>-9 Kolkata', 'India-? Kolkata', '}-9 Kolkata', '#-9 Kolkata',\n",
       "       'India-$ Kolkata', ']-9 Kolkata', 'India-< Kolkata', '$-9 Kolkata',\n",
       "       'India-] Kolkata', '<-9 Kolkata', 'India-: Kolkata',\n",
       "       'India-# Kolkata', 'India-+ Kolkata', '+-9 Kolkata',\n",
       "       'India-& Kolkata', 'India-, Kolkata', '%-9 Kolkata',\n",
       "       'India-( Kolkata', 'India-_ Kolkata', '@-9 Kolkata', '=-9 Kolkata',\n",
       "       'India-\" Kolkata', '/-9 Kolkata', '_-9 Kolkata', '?-9 Kolkata',\n",
       "       ')-9 Kolkata', '*-9 Kolkata', 'India-= Kolkata', \"India-' Kolkata\",\n",
       "       '{-9 Kolkata', '&-9 Kolkata', '[-9 Kolkata', 'India-) Kolkata',\n",
       "       '=-9 Mumbai', '\\\\-9 Mumbai', 'India-- Mumbai', 'India-/ Mumbai',\n",
       "       ']-9 Mumbai', '%-9 Mumbai', 'India-$ Mumbai', 'India-* Mumbai',\n",
       "       'India-^ Mumbai', '?-9 Mumbai', '@-9 Mumbai', '+-9 Mumbai',\n",
       "       \"India-' Mumbai\", 'India-} Mumbai', '}-9 Mumbai', 'India-! Mumbai',\n",
       "       'India-+ Mumbai', 'India-> Mumbai', '*-9 Mumbai', 'India-( Mumbai',\n",
       "       'India-, Mumbai', 'India-& Mumbai', '>-9 Mumbai',\n",
       "       'India-\\\\ Mumbai', 'India-[ Mumbai', 'India-: Mumbai',\n",
       "       'India-; Mumbai', '<-9 Mumbai', '\"-9 Mumbai', 'India-< Mumbai',\n",
       "       'India-? Mumbai', ')-9 Mumbai', '^-9 Mumbai', 'India-_ Mumbai',\n",
       "       'India-) Mumbai', 'India-@ Mumbai', '|-9 Mumbai', '&-9 Mumbai',\n",
       "       'India-\" Mumbai', '/-9 Mumbai', '(-9 Mumbai', 'India-% Mumbai',\n",
       "       '!-9 Mumbai', '--9 Mumbai', '$-9 Mumbai', '[-9 Mumbai',\n",
       "       ',-9 Mumbai', ':-9 Mumbai', ';-9 Mumbai', 'India-# Mumbai',\n",
       "       'India-] Mumbai', 'India-{ Mumbai', 'India-= Mumbai', \"'-9 Mumbai\",\n",
       "       '_-9 Mumbai', 'India-| Mumbai', 'India-. Mumbai', '{-9 Mumbai',\n",
       "       '.-9 Mumbai', '#-9 Mumbai', 'India-, Bangalore',\n",
       "       'India-[ Bangalore', 'India-@ Bangalore', '_-9 Bangalore',\n",
       "       '%-9 Bangalore', 'India-& Bangalore', '$-9 Bangalore',\n",
       "       '?-9 Bangalore', '#-9 Bangalore', 'India-. Bangalore',\n",
       "       ')-9 Bangalore', 'India-; Bangalore', '/-9 Bangalore',\n",
       "       'India-# Bangalore', 'India-\\\\ Bangalore', 'India-* Bangalore',\n",
       "       '!-9 Bangalore', 'India-| Bangalore', '\\\\-9 Bangalore',\n",
       "       'India-< Bangalore', 'India-- Bangalore', 'India-/ Bangalore',\n",
       "       'India-\" Bangalore', '(-9 Bangalore', '--9 Bangalore',\n",
       "       'India-? Bangalore', ';-9 Bangalore', '&-9 Bangalore',\n",
       "       '+-9 Bangalore', 'India-( Bangalore', 'India-^ Bangalore',\n",
       "       '{-9 Bangalore', '|-9 Bangalore', '\"-9 Bangalore', \"'-9 Bangalore\",\n",
       "       'India-: Bangalore', 'India-> Bangalore', 'India-! Bangalore',\n",
       "       '>-9 Bangalore', 'India-} Bangalore', 'India-] Bangalore',\n",
       "       '*-9 Bangalore', 'India-= Bangalore', \"India-' Bangalore\",\n",
       "       'India-% Bangalore', 'India-$ Bangalore', '.-9 Bangalore',\n",
       "       'India-{ Bangalore', '<-9 Bangalore', '@-9 Bangalore',\n",
       "       ':-9 Bangalore', 'India-+ Bangalore', '^-9 Bangalore',\n",
       "       '=-9 Bangalore', '[-9 Bangalore', '}-9 Bangalore',\n",
       "       'India-_ Bangalore', 'India-) Bangalore', ']-9 Bangalore',\n",
       "       ',-9 Bangalore', 'India-[ Delhi', 'India-, Delhi', '_-9 Delhi',\n",
       "       'India-+ Delhi', 'India-! Delhi', '*-9 Delhi', \"'-9 Delhi\",\n",
       "       ';-9 Delhi', '=-9 Delhi', '\\\\-9 Delhi', '?-9 Delhi', '{-9 Delhi',\n",
       "       '/-9 Delhi', '$-9 Delhi', 'India-{ Delhi', '&-9 Delhi',\n",
       "       'India-? Delhi', ']-9 Delhi', 'India-$ Delhi', '#-9 Delhi',\n",
       "       'India-\" Delhi', 'India-@ Delhi', 'India-. Delhi', '@-9 Delhi',\n",
       "       'India-\\\\ Delhi', 'India-/ Delhi', 'India-^ Delhi',\n",
       "       'India-( Delhi', '!-9 Delhi', '[-9 Delhi', 'India-} Delhi',\n",
       "       ')-9 Delhi', '<-9 Delhi', 'India-] Delhi', '+-9 Delhi',\n",
       "       'India-< Delhi', 'India-& Delhi', 'India-; Delhi', '|-9 Delhi',\n",
       "       'India-_ Delhi', '.-9 Delhi', '(-9 Delhi', 'India-= Delhi',\n",
       "       'India-> Delhi', '%-9 Delhi', 'India-# Delhi', ',-9 Delhi',\n",
       "       'India-- Delhi', '>-9 Delhi', '^-9 Delhi', '--9 Delhi',\n",
       "       'India-* Delhi', \"India-' Delhi\", 'India-: Delhi', ':-9 Delhi',\n",
       "       'India-% Delhi', 'India-| Delhi', '}-9 Delhi', 'India-) Delhi',\n",
       "       '\"-9 Delhi', '%-9 Chennai', '^-9 Chennai', 'India-: Chennai',\n",
       "       ']-9 Chennai', '--9 Chennai', 'India-) Chennai', 'India-( Chennai',\n",
       "       'India-@ Chennai', '.-9 Chennai', '&-9 Chennai', '<-9 Chennai',\n",
       "       '_-9 Chennai', '?-9 Chennai', '}-9 Chennai', '*-9 Chennai',\n",
       "       'India-= Chennai', 'India-# Chennai', 'India-% Chennai',\n",
       "       'India-[ Chennai', 'India-! Chennai', 'India-} Chennai',\n",
       "       'India-< Chennai', 'India-^ Chennai', '@-9 Chennai',\n",
       "       'India-* Chennai', 'India-\\\\ Chennai', '(-9 Chennai',\n",
       "       'India-& Chennai', 'India-? Chennai', '=-9 Chennai',\n",
       "       'India-] Chennai', 'India-+ Chennai', ')-9 Chennai',\n",
       "       '\\\\-9 Chennai', '!-9 Chennai', 'India-{ Chennai', '\"-9 Chennai',\n",
       "       'India-; Chennai', 'India-> Chennai', '#-9 Chennai', \"'-9 Chennai\",\n",
       "       ';-9 Chennai', '/-9 Chennai', '>-9 Chennai', 'India-- Chennai',\n",
       "       ':-9 Chennai', 'India-. Chennai', '|-9 Chennai', '$-9 Chennai',\n",
       "       ',-9 Chennai', 'India-| Chennai', 'India-/ Chennai', '{-9 Chennai',\n",
       "       'India-\" Chennai', '+-9 Chennai', 'India-_ Chennai',\n",
       "       'India-$ Chennai', 'India-, Chennai', '[-9 Chennai',\n",
       "       \"India-' Chennai\", 'India-! Hyderabad', ';-9 Hyderabad',\n",
       "       '_-9 Hyderabad', 'India-[ Hyderabad', 'India-@ Hyderabad',\n",
       "       'India-% Hyderabad', 'India-( Hyderabad', '>-9 Hyderabad',\n",
       "       '(-9 Hyderabad', '\\\\-9 Hyderabad', 'India-< Hyderabad',\n",
       "       'India-\" Hyderabad', \"'-9 Hyderabad\", 'India-$ Hyderabad',\n",
       "       'India-- Hyderabad', 'India-= Hyderabad', ':-9 Hyderabad',\n",
       "       '|-9 Hyderabad', 'India-} Hyderabad', '%-9 Hyderabad',\n",
       "       '#-9 Hyderabad', ',-9 Hyderabad', 'India-] Hyderabad',\n",
       "       'India-. Hyderabad', '.-9 Hyderabad', 'India-? Hyderabad',\n",
       "       'India-+ Hyderabad', '@-9 Hyderabad', '+-9 Hyderabad',\n",
       "       'India-& Hyderabad', '^-9 Hyderabad', 'India-\\\\ Hyderabad',\n",
       "       '&-9 Hyderabad', '=-9 Hyderabad', 'India-| Hyderabad',\n",
       "       'India-; Hyderabad', '!-9 Hyderabad', '?-9 Hyderabad',\n",
       "       'India-> Hyderabad', ']-9 Hyderabad', 'India-* Hyderabad',\n",
       "       'India-^ Hyderabad', '}-9 Hyderabad', 'India-{ Hyderabad',\n",
       "       '--9 Hyderabad', \"India-' Hyderabad\", '{-9 Hyderabad',\n",
       "       '\"-9 Hyderabad', 'India-: Hyderabad', 'India-/ Hyderabad',\n",
       "       '<-9 Hyderabad', ')-9 Hyderabad', '/-9 Hyderabad',\n",
       "       'India-) Hyderabad', 'India-_ Hyderabad', 'India-# Hyderabad',\n",
       "       '[-9 Hyderabad', '*-9 Hyderabad', 'India-, Hyderabad',\n",
       "       '$-9 Hyderabad'], dtype=object)"
      ]
     },
     "execution_count": 37,
     "metadata": {},
     "output_type": "execute_result"
    }
   ],
   "source": [
    "df['City'].unique()"
   ]
  },
  {
   "cell_type": "code",
   "execution_count": 38,
   "metadata": {},
   "outputs": [
    {
     "data": {
      "text/plain": [
       "City\n",
       "India-, Mumbai       24\n",
       "India-( Bangalore    23\n",
       "India-( Chennai      22\n",
       "--9 Mumbai           22\n",
       "India-\\ Mumbai       22\n",
       "                     ..\n",
       "%-9 Delhi             4\n",
       "\"-9 Kolkata           4\n",
       "'-9 Kolkata           4\n",
       "India-/ Kolkata       3\n",
       "<-9 Kolkata           3\n",
       "Name: count, Length: 360, dtype: int64"
      ]
     },
     "execution_count": 38,
     "metadata": {},
     "output_type": "execute_result"
    }
   ],
   "source": [
    "df['City'].value_counts()"
   ]
  },
  {
   "cell_type": "code",
   "execution_count": 39,
   "metadata": {},
   "outputs": [],
   "source": [
    "df['City'] = df['City'].str.replace('[^a-zA-Z]' , '' , regex=True)\n",
    "df['City'] = df['City'].str.replace('India' , '' , regex=True)"
   ]
  },
  {
   "cell_type": "code",
   "execution_count": 40,
   "metadata": {},
   "outputs": [
    {
     "data": {
      "text/plain": [
       "array(['Kolkata', nan, 'Mumbai', 'Bangalore', 'Delhi', 'Chennai',\n",
       "       'Hyderabad'], dtype=object)"
      ]
     },
     "execution_count": 40,
     "metadata": {},
     "output_type": "execute_result"
    }
   ],
   "source": [
    "df['City'].unique()"
   ]
  },
  {
   "cell_type": "code",
   "execution_count": 41,
   "metadata": {},
   "outputs": [
    {
     "data": {
      "text/plain": [
       "np.int64(655)"
      ]
     },
     "execution_count": 41,
     "metadata": {},
     "output_type": "execute_result"
    }
   ],
   "source": [
    "df['City'].isna().sum()"
   ]
  },
  {
   "cell_type": "code",
   "execution_count": 42,
   "metadata": {},
   "outputs": [],
   "source": [
    "df = fill_NAN_with_percentage(df ,'City' )"
   ]
  },
  {
   "cell_type": "code",
   "execution_count": 43,
   "metadata": {},
   "outputs": [
    {
     "data": {
      "text/plain": [
       "np.int64(0)"
      ]
     },
     "execution_count": 43,
     "metadata": {},
     "output_type": "execute_result"
    }
   ],
   "source": [
    "df['City'].isna().sum()"
   ]
  },
  {
   "cell_type": "markdown",
   "metadata": {},
   "source": [
    "Cleaning column \"Furnishing Status\""
   ]
  },
  {
   "cell_type": "code",
   "execution_count": 44,
   "metadata": {},
   "outputs": [
    {
     "data": {
      "text/plain": [
       "array(['Unfurnished', 'Semi-Furnished', 'Furnished', nan], dtype=object)"
      ]
     },
     "execution_count": 44,
     "metadata": {},
     "output_type": "execute_result"
    }
   ],
   "source": [
    "df['Furnishing Status'].unique()"
   ]
  },
  {
   "cell_type": "code",
   "execution_count": 45,
   "metadata": {},
   "outputs": [
    {
     "data": {
      "text/plain": [
       "Furnishing Status\n",
       "Semi-Furnished    1908\n",
       "Unfurnished       1555\n",
       "Furnished          579\n",
       "Name: count, dtype: int64"
      ]
     },
     "execution_count": 45,
     "metadata": {},
     "output_type": "execute_result"
    }
   ],
   "source": [
    "df['Furnishing Status'].value_counts()"
   ]
  },
  {
   "cell_type": "code",
   "execution_count": 46,
   "metadata": {},
   "outputs": [],
   "source": [
    "df = fill_NAN_with_percentage(df ,'Furnishing Status' )"
   ]
  },
  {
   "cell_type": "code",
   "execution_count": 47,
   "metadata": {},
   "outputs": [
    {
     "data": {
      "text/plain": [
       "np.int64(0)"
      ]
     },
     "execution_count": 47,
     "metadata": {},
     "output_type": "execute_result"
    }
   ],
   "source": [
    "df['Furnishing Status'].isna().sum()"
   ]
  },
  {
   "cell_type": "markdown",
   "metadata": {},
   "source": [
    "Cleaning column \"Tenant Preferred\""
   ]
  },
  {
   "cell_type": "code",
   "execution_count": 48,
   "metadata": {},
   "outputs": [
    {
     "data": {
      "text/plain": [
       "array(['Bach^elors/Fam.ily', 'Bachelors\\\\/Family*', nan, ...,\n",
       "       '!Bachelors+/Family', '$Family%', 'Bachelo%rs:'],\n",
       "      shape=(4052,), dtype=object)"
      ]
     },
     "execution_count": 48,
     "metadata": {},
     "output_type": "execute_result"
    }
   ],
   "source": [
    "df['Tenant Preferred'].unique()"
   ]
  },
  {
   "cell_type": "code",
   "execution_count": 49,
   "metadata": {},
   "outputs": [],
   "source": [
    "df['Tenant Preferred'] = df['Tenant Preferred'].str.replace('[^a-zA-Z]' , '' , regex=True)"
   ]
  },
  {
   "cell_type": "code",
   "execution_count": 50,
   "metadata": {},
   "outputs": [
    {
     "data": {
      "text/plain": [
       "array(['BachelorsFamily', nan, 'Bachelors', 'Family'], dtype=object)"
      ]
     },
     "execution_count": 50,
     "metadata": {},
     "output_type": "execute_result"
    }
   ],
   "source": [
    "df['Tenant Preferred'].unique()"
   ]
  },
  {
   "cell_type": "code",
   "execution_count": 51,
   "metadata": {},
   "outputs": [],
   "source": [
    "df = fill_NAN_with_percentage(df ,'Tenant Preferred' )"
   ]
  },
  {
   "cell_type": "code",
   "execution_count": 52,
   "metadata": {},
   "outputs": [
    {
     "data": {
      "text/plain": [
       "np.int64(0)"
      ]
     },
     "execution_count": 52,
     "metadata": {},
     "output_type": "execute_result"
    }
   ],
   "source": [
    "df['Tenant Preferred'].isna().sum()"
   ]
  },
  {
   "cell_type": "markdown",
   "metadata": {},
   "source": [
    "Cleaning column \"Bathroom\""
   ]
  },
  {
   "cell_type": "code",
   "execution_count": 53,
   "metadata": {},
   "outputs": [
    {
     "data": {
      "text/plain": [
       "array(['2.0', nan, '1.0', '1.0 Bathrooms', '2.0 Bathrooms', '3.0', '4.0',\n",
       "       '5.0', '3.0 Bathrooms', '5.0 Bathrooms', '6.0', '4.0 Bathrooms',\n",
       "       '7.0', '10.0'], dtype=object)"
      ]
     },
     "execution_count": 53,
     "metadata": {},
     "output_type": "execute_result"
    }
   ],
   "source": [
    "df['Bathroom'].unique()"
   ]
  },
  {
   "cell_type": "code",
   "execution_count": 54,
   "metadata": {},
   "outputs": [],
   "source": [
    "df['Bathroom'] = df['Bathroom'].str.replace('[a-zA-Z]' ,'', regex=True).str.strip()"
   ]
  },
  {
   "cell_type": "code",
   "execution_count": 55,
   "metadata": {},
   "outputs": [],
   "source": [
    "df['Bathroom'] = df['Bathroom'].astype('float')"
   ]
  },
  {
   "cell_type": "code",
   "execution_count": 56,
   "metadata": {},
   "outputs": [
    {
     "data": {
      "text/plain": [
       "np.int64(541)"
      ]
     },
     "execution_count": 56,
     "metadata": {},
     "output_type": "execute_result"
    }
   ],
   "source": [
    "df['Bathroom'].isna().sum()"
   ]
  },
  {
   "cell_type": "code",
   "execution_count": 57,
   "metadata": {},
   "outputs": [],
   "source": [
    "df = fill_NAN_with_percentage(df ,'Bathroom' )"
   ]
  },
  {
   "cell_type": "code",
   "execution_count": 58,
   "metadata": {},
   "outputs": [
    {
     "data": {
      "text/plain": [
       "np.int64(0)"
      ]
     },
     "execution_count": 58,
     "metadata": {},
     "output_type": "execute_result"
    }
   ],
   "source": [
    "df['Bathroom'].isna().sum()"
   ]
  },
  {
   "cell_type": "code",
   "execution_count": 59,
   "metadata": {},
   "outputs": [
    {
     "data": {
      "text/plain": [
       "array([ 2.,  1.,  3.,  4.,  5.,  6.,  7., 10.])"
      ]
     },
     "execution_count": 59,
     "metadata": {},
     "output_type": "execute_result"
    }
   ],
   "source": [
    "df['Bathroom'].unique()"
   ]
  },
  {
   "cell_type": "markdown",
   "metadata": {},
   "source": [
    "Cleaning column \"Point of Contact\""
   ]
  },
  {
   "cell_type": "code",
   "execution_count": 60,
   "metadata": {},
   "outputs": [
    {
     "data": {
      "text/plain": [
       "array(['Contact Owner', nan, 'Contact Agent'], dtype=object)"
      ]
     },
     "execution_count": 60,
     "metadata": {},
     "output_type": "execute_result"
    }
   ],
   "source": [
    "df['Point of Contact'].unique()"
   ]
  },
  {
   "cell_type": "code",
   "execution_count": 61,
   "metadata": {},
   "outputs": [
    {
     "data": {
      "text/plain": [
       "np.int64(609)"
      ]
     },
     "execution_count": 61,
     "metadata": {},
     "output_type": "execute_result"
    }
   ],
   "source": [
    "df['Point of Contact'].isna().sum()"
   ]
  },
  {
   "cell_type": "code",
   "execution_count": 62,
   "metadata": {},
   "outputs": [],
   "source": [
    "df = fill_NAN_with_percentage(df ,'Point of Contact' )"
   ]
  },
  {
   "cell_type": "code",
   "execution_count": 63,
   "metadata": {},
   "outputs": [
    {
     "data": {
      "text/plain": [
       "np.int64(0)"
      ]
     },
     "execution_count": 63,
     "metadata": {},
     "output_type": "execute_result"
    }
   ],
   "source": [
    "df['Point of Contact'].isna().sum()"
   ]
  },
  {
   "cell_type": "markdown",
   "metadata": {},
   "source": [
    "### EDA\n",
    "- Try to comeout with insights and relations \n",
    "- also give attention to the look and style of your visuals"
   ]
  },
  {
   "cell_type": "markdown",
   "metadata": {},
   "source": []
  },
  {
   "cell_type": "code",
   "execution_count": 64,
   "metadata": {},
   "outputs": [
    {
     "data": {
      "image/png": "[encoded data removed]",
      "text/plain": [
       "<Figure size 640x480 with 1 Axes>"
      ]
     },
     "metadata": {},
     "output_type": "display_data"
    }
   ],
   "source": [
    "num_var = df[['BHK', 'Rent', 'Size']]\n",
    "\n",
    "plt.hist(num_var['BHK'], bins=10, color='cyan', edgecolor='black')\n",
    "\n",
    "plt.xlabel('BHK')\n",
    "plt.ylabel('Frequency')\n",
    "\n",
    "plt.title('Histogram BHK')\n",
    "\n",
    "plt.show()"
   ]
  },
  {
   "cell_type": "code",
   "execution_count": 65,
   "metadata": {},
   "outputs": [
    {
     "data": {
      "image/png": "[encoded data removed]",
      "text/plain": [
       "<Figure size 640x480 with 1 Axes>"
      ]
     },
     "metadata": {},
     "output_type": "display_data"
    }
   ],
   "source": [
    "plt.hist(num_var['Rent'], bins=10, color='pink', edgecolor='black')\n",
    "\n",
    "plt.xlabel('Rent')\n",
    "plt.ylabel('Frequency')\n",
    "\n",
    "plt.title('Histogram Rent')\n",
    "\n",
    "plt.show()"
   ]
  },
  {
   "cell_type": "code",
   "execution_count": 66,
   "metadata": {},
   "outputs": [
    {
     "data": {
      "image/png": "[encoded data removed]",
      "text/plain": [
       "<Figure size 640x480 with 1 Axes>"
      ]
     },
     "metadata": {},
     "output_type": "display_data"
    }
   ],
   "source": [
    "plt.hist(num_var['Size'], bins=10, color='#A9DFBF', edgecolor='black')\n",
    "\n",
    "plt.xlabel('Size')\n",
    "plt.ylabel('Frequency')\n",
    "\n",
    "plt.title('Histogram Size')\n",
    "\n",
    "plt.show()"
   ]
  },
  {
   "cell_type": "code",
   "execution_count": 67,
   "metadata": {},
   "outputs": [
    {
     "name": "stderr",
     "output_type": "stream",
     "text": [
      "c:\\Users\\User\\anaconda3\\envs\\AI\\Lib\\site-packages\\seaborn\\_oldcore.py:1119: FutureWarning: use_inf_as_na option is deprecated and will be removed in a future version. Convert inf values to NaN before operating instead.\n",
      "  with pd.option_context('mode.use_inf_as_na', True):\n",
      "c:\\Users\\User\\anaconda3\\envs\\AI\\Lib\\site-packages\\seaborn\\_oldcore.py:1119: FutureWarning: use_inf_as_na option is deprecated and will be removed in a future version. Convert inf values to NaN before operating instead.\n",
      "  with pd.option_context('mode.use_inf_as_na', True):\n",
      "c:\\Users\\User\\anaconda3\\envs\\AI\\Lib\\site-packages\\seaborn\\_oldcore.py:1119: FutureWarning: use_inf_as_na option is deprecated and will be removed in a future version. Convert inf values to NaN before operating instead.\n",
      "  with pd.option_context('mode.use_inf_as_na', True):\n",
      "c:\\Users\\User\\anaconda3\\envs\\AI\\Lib\\site-packages\\seaborn\\_oldcore.py:1119: FutureWarning: use_inf_as_na option is deprecated and will be removed in a future version. Convert inf values to NaN before operating instead.\n",
      "  with pd.option_context('mode.use_inf_as_na', True):\n",
      "c:\\Users\\User\\anaconda3\\envs\\AI\\Lib\\site-packages\\seaborn\\_oldcore.py:1119: FutureWarning: use_inf_as_na option is deprecated and will be removed in a future version. Convert inf values to NaN before operating instead.\n",
      "  with pd.option_context('mode.use_inf_as_na', True):\n"
     ]
    },
    {
     "data": {
      "text/plain": [
       "<seaborn.axisgrid.PairGrid at 0x14af6e3acf0>"
      ]
     },
     "execution_count": 67,
     "metadata": {},
     "output_type": "execute_result"
    },
    {
     "data": {
      "image/png": "[encoded data removed]",
      "text/plain": [
       "<Figure size 1250x1250 with 30 Axes>"
      ]
     },
     "metadata": {},
     "output_type": "display_data"
    }
   ],
   "source": [
    "sns.pairplot(df)"
   ]
  },
  {
   "cell_type": "markdown",
   "metadata": {},
   "source": [
    "### Feature Engineering \n",
    "- Start with Encoding Categorical Features\n",
    "- Try the following techniques :\n",
    "    - one-hot-encoding VS dummy encoding (write a summary about your observations)\n",
    "    - if let's say the encoding will generate a huge amount of columns try to limit the columns count"
   ]
  },
  {
   "cell_type": "code",
   "execution_count": 68,
   "metadata": {},
   "outputs": [
    {
     "data": {
      "text/html": [
       "<div>\n",
       "<style scoped>\n",
       "    .dataframe tbody tr th:only-of-type {\n",
       "        vertical-align: middle;\n",
       "    }\n",
       "\n",
       "    .dataframe tbody tr th {\n",
       "        vertical-align: top;\n",
       "    }\n",
       "\n",
       "    .dataframe thead th {\n",
       "        text-align: right;\n",
       "    }\n",
       "</style>\n",
       "<table border=\"1\" class=\"dataframe\">\n",
       "  <thead>\n",
       "    <tr style=\"text-align: right;\">\n",
       "      <th></th>\n",
       "      <th>BHK</th>\n",
       "      <th>Size</th>\n",
       "      <th>Bathroom</th>\n",
       "      <th>Rent</th>\n",
       "      <th>Month</th>\n",
       "      <th>NEW_built area</th>\n",
       "      <th>NEW_carpet area</th>\n",
       "      <th>NEW_super area</th>\n",
       "      <th>NEW_ Beeramguda, Ramachandra Puram, NH 9</th>\n",
       "      <th>NEW_ in Boduppal, NH 2 2</th>\n",
       "      <th>...</th>\n",
       "      <th>NEW_Kolkata</th>\n",
       "      <th>NEW_Mumbai</th>\n",
       "      <th>NEW_Furnished</th>\n",
       "      <th>NEW_Semi-Furnished</th>\n",
       "      <th>NEW_Unfurnished</th>\n",
       "      <th>NEW_Bachelors</th>\n",
       "      <th>NEW_BachelorsFamily</th>\n",
       "      <th>NEW_Family</th>\n",
       "      <th>NEW_Contact Agent</th>\n",
       "      <th>NEW_Contact Owner</th>\n",
       "    </tr>\n",
       "  </thead>\n",
       "  <tbody>\n",
       "    <tr>\n",
       "      <th>0</th>\n",
       "      <td>2.0</td>\n",
       "      <td>1100.0</td>\n",
       "      <td>2.0</td>\n",
       "      <td>10000</td>\n",
       "      <td>6.0</td>\n",
       "      <td>0</td>\n",
       "      <td>0</td>\n",
       "      <td>1</td>\n",
       "      <td>0</td>\n",
       "      <td>0</td>\n",
       "      <td>...</td>\n",
       "      <td>1</td>\n",
       "      <td>0</td>\n",
       "      <td>0</td>\n",
       "      <td>0</td>\n",
       "      <td>1</td>\n",
       "      <td>0</td>\n",
       "      <td>1</td>\n",
       "      <td>0</td>\n",
       "      <td>0</td>\n",
       "      <td>1</td>\n",
       "    </tr>\n",
       "    <tr>\n",
       "      <th>1</th>\n",
       "      <td>2.0</td>\n",
       "      <td>800.0</td>\n",
       "      <td>2.0</td>\n",
       "      <td>20000</td>\n",
       "      <td>5.0</td>\n",
       "      <td>0</td>\n",
       "      <td>0</td>\n",
       "      <td>1</td>\n",
       "      <td>0</td>\n",
       "      <td>0</td>\n",
       "      <td>...</td>\n",
       "      <td>1</td>\n",
       "      <td>0</td>\n",
       "      <td>0</td>\n",
       "      <td>1</td>\n",
       "      <td>0</td>\n",
       "      <td>0</td>\n",
       "      <td>1</td>\n",
       "      <td>0</td>\n",
       "      <td>1</td>\n",
       "      <td>0</td>\n",
       "    </tr>\n",
       "    <tr>\n",
       "      <th>2</th>\n",
       "      <td>2.0</td>\n",
       "      <td>1000.0</td>\n",
       "      <td>1.0</td>\n",
       "      <td>17000</td>\n",
       "      <td>5.0</td>\n",
       "      <td>0</td>\n",
       "      <td>0</td>\n",
       "      <td>1</td>\n",
       "      <td>0</td>\n",
       "      <td>0</td>\n",
       "      <td>...</td>\n",
       "      <td>1</td>\n",
       "      <td>0</td>\n",
       "      <td>0</td>\n",
       "      <td>1</td>\n",
       "      <td>0</td>\n",
       "      <td>1</td>\n",
       "      <td>0</td>\n",
       "      <td>0</td>\n",
       "      <td>0</td>\n",
       "      <td>1</td>\n",
       "    </tr>\n",
       "    <tr>\n",
       "      <th>3</th>\n",
       "      <td>2.0</td>\n",
       "      <td>800.0</td>\n",
       "      <td>1.0</td>\n",
       "      <td>10000</td>\n",
       "      <td>7.0</td>\n",
       "      <td>0</td>\n",
       "      <td>0</td>\n",
       "      <td>1</td>\n",
       "      <td>0</td>\n",
       "      <td>0</td>\n",
       "      <td>...</td>\n",
       "      <td>0</td>\n",
       "      <td>0</td>\n",
       "      <td>0</td>\n",
       "      <td>0</td>\n",
       "      <td>1</td>\n",
       "      <td>0</td>\n",
       "      <td>1</td>\n",
       "      <td>0</td>\n",
       "      <td>1</td>\n",
       "      <td>0</td>\n",
       "    </tr>\n",
       "    <tr>\n",
       "      <th>4</th>\n",
       "      <td>2.0</td>\n",
       "      <td>850.0</td>\n",
       "      <td>1.0</td>\n",
       "      <td>7500</td>\n",
       "      <td>5.0</td>\n",
       "      <td>0</td>\n",
       "      <td>1</td>\n",
       "      <td>0</td>\n",
       "      <td>0</td>\n",
       "      <td>0</td>\n",
       "      <td>...</td>\n",
       "      <td>1</td>\n",
       "      <td>0</td>\n",
       "      <td>0</td>\n",
       "      <td>0</td>\n",
       "      <td>1</td>\n",
       "      <td>1</td>\n",
       "      <td>0</td>\n",
       "      <td>0</td>\n",
       "      <td>0</td>\n",
       "      <td>1</td>\n",
       "    </tr>\n",
       "    <tr>\n",
       "      <th>...</th>\n",
       "      <td>...</td>\n",
       "      <td>...</td>\n",
       "      <td>...</td>\n",
       "      <td>...</td>\n",
       "      <td>...</td>\n",
       "      <td>...</td>\n",
       "      <td>...</td>\n",
       "      <td>...</td>\n",
       "      <td>...</td>\n",
       "      <td>...</td>\n",
       "      <td>...</td>\n",
       "      <td>...</td>\n",
       "      <td>...</td>\n",
       "      <td>...</td>\n",
       "      <td>...</td>\n",
       "      <td>...</td>\n",
       "      <td>...</td>\n",
       "      <td>...</td>\n",
       "      <td>...</td>\n",
       "      <td>...</td>\n",
       "      <td>...</td>\n",
       "    </tr>\n",
       "    <tr>\n",
       "      <th>4741</th>\n",
       "      <td>2.0</td>\n",
       "      <td>1000.0</td>\n",
       "      <td>2.0</td>\n",
       "      <td>15000</td>\n",
       "      <td>5.0</td>\n",
       "      <td>0</td>\n",
       "      <td>1</td>\n",
       "      <td>0</td>\n",
       "      <td>0</td>\n",
       "      <td>0</td>\n",
       "      <td>...</td>\n",
       "      <td>0</td>\n",
       "      <td>0</td>\n",
       "      <td>0</td>\n",
       "      <td>1</td>\n",
       "      <td>0</td>\n",
       "      <td>0</td>\n",
       "      <td>1</td>\n",
       "      <td>0</td>\n",
       "      <td>0</td>\n",
       "      <td>1</td>\n",
       "    </tr>\n",
       "    <tr>\n",
       "      <th>4742</th>\n",
       "      <td>3.0</td>\n",
       "      <td>2000.0</td>\n",
       "      <td>3.0</td>\n",
       "      <td>29000</td>\n",
       "      <td>6.0</td>\n",
       "      <td>0</td>\n",
       "      <td>0</td>\n",
       "      <td>1</td>\n",
       "      <td>0</td>\n",
       "      <td>0</td>\n",
       "      <td>...</td>\n",
       "      <td>0</td>\n",
       "      <td>0</td>\n",
       "      <td>0</td>\n",
       "      <td>1</td>\n",
       "      <td>0</td>\n",
       "      <td>0</td>\n",
       "      <td>1</td>\n",
       "      <td>0</td>\n",
       "      <td>0</td>\n",
       "      <td>1</td>\n",
       "    </tr>\n",
       "    <tr>\n",
       "      <th>4743</th>\n",
       "      <td>2.0</td>\n",
       "      <td>1750.0</td>\n",
       "      <td>3.0</td>\n",
       "      <td>35000</td>\n",
       "      <td>7.0</td>\n",
       "      <td>0</td>\n",
       "      <td>1</td>\n",
       "      <td>0</td>\n",
       "      <td>0</td>\n",
       "      <td>0</td>\n",
       "      <td>...</td>\n",
       "      <td>0</td>\n",
       "      <td>0</td>\n",
       "      <td>0</td>\n",
       "      <td>1</td>\n",
       "      <td>0</td>\n",
       "      <td>0</td>\n",
       "      <td>1</td>\n",
       "      <td>0</td>\n",
       "      <td>0</td>\n",
       "      <td>1</td>\n",
       "    </tr>\n",
       "    <tr>\n",
       "      <th>4744</th>\n",
       "      <td>2.0</td>\n",
       "      <td>1500.0</td>\n",
       "      <td>2.0</td>\n",
       "      <td>45000</td>\n",
       "      <td>7.0</td>\n",
       "      <td>0</td>\n",
       "      <td>1</td>\n",
       "      <td>0</td>\n",
       "      <td>0</td>\n",
       "      <td>0</td>\n",
       "      <td>...</td>\n",
       "      <td>0</td>\n",
       "      <td>0</td>\n",
       "      <td>0</td>\n",
       "      <td>1</td>\n",
       "      <td>0</td>\n",
       "      <td>0</td>\n",
       "      <td>0</td>\n",
       "      <td>1</td>\n",
       "      <td>1</td>\n",
       "      <td>0</td>\n",
       "    </tr>\n",
       "    <tr>\n",
       "      <th>4745</th>\n",
       "      <td>2.0</td>\n",
       "      <td>1000.0</td>\n",
       "      <td>2.0</td>\n",
       "      <td>15000</td>\n",
       "      <td>5.0</td>\n",
       "      <td>0</td>\n",
       "      <td>1</td>\n",
       "      <td>0</td>\n",
       "      <td>0</td>\n",
       "      <td>0</td>\n",
       "      <td>...</td>\n",
       "      <td>0</td>\n",
       "      <td>0</td>\n",
       "      <td>0</td>\n",
       "      <td>0</td>\n",
       "      <td>1</td>\n",
       "      <td>1</td>\n",
       "      <td>0</td>\n",
       "      <td>0</td>\n",
       "      <td>0</td>\n",
       "      <td>1</td>\n",
       "    </tr>\n",
       "  </tbody>\n",
       "</table>\n",
       "<p>4746 rows × 2039 columns</p>\n",
       "</div>"
      ],
      "text/plain": [
       "      BHK    Size  Bathroom   Rent  Month  NEW_built area  NEW_carpet area  \\\n",
       "0     2.0  1100.0       2.0  10000    6.0               0                0   \n",
       "1     2.0   800.0       2.0  20000    5.0               0                0   \n",
       "2     2.0  1000.0       1.0  17000    5.0               0                0   \n",
       "3     2.0   800.0       1.0  10000    7.0               0                0   \n",
       "4     2.0   850.0       1.0   7500    5.0               0                1   \n",
       "...   ...     ...       ...    ...    ...             ...              ...   \n",
       "4741  2.0  1000.0       2.0  15000    5.0               0                1   \n",
       "4742  3.0  2000.0       3.0  29000    6.0               0                0   \n",
       "4743  2.0  1750.0       3.0  35000    7.0               0                1   \n",
       "4744  2.0  1500.0       2.0  45000    7.0               0                1   \n",
       "4745  2.0  1000.0       2.0  15000    5.0               0                1   \n",
       "\n",
       "      NEW_super area  NEW_ Beeramguda, Ramachandra Puram, NH 9  \\\n",
       "0                  1                                         0   \n",
       "1                  1                                         0   \n",
       "2                  1                                         0   \n",
       "3                  1                                         0   \n",
       "4                  0                                         0   \n",
       "...              ...                                       ...   \n",
       "4741               0                                         0   \n",
       "4742               1                                         0   \n",
       "4743               0                                         0   \n",
       "4744               0                                         0   \n",
       "4745               0                                         0   \n",
       "\n",
       "      NEW_ in Boduppal, NH 2 2  ...  NEW_Kolkata  NEW_Mumbai  NEW_Furnished  \\\n",
       "0                            0  ...            1           0              0   \n",
       "1                            0  ...            1           0              0   \n",
       "2                            0  ...            1           0              0   \n",
       "3                            0  ...            0           0              0   \n",
       "4                            0  ...            1           0              0   \n",
       "...                        ...  ...          ...         ...            ...   \n",
       "4741                         0  ...            0           0              0   \n",
       "4742                         0  ...            0           0              0   \n",
       "4743                         0  ...            0           0              0   \n",
       "4744                         0  ...            0           0              0   \n",
       "4745                         0  ...            0           0              0   \n",
       "\n",
       "      NEW_Semi-Furnished  NEW_Unfurnished  NEW_Bachelors  NEW_BachelorsFamily  \\\n",
       "0                      0                1              0                    1   \n",
       "1                      1                0              0                    1   \n",
       "2                      1                0              1                    0   \n",
       "3                      0                1              0                    1   \n",
       "4                      0                1              1                    0   \n",
       "...                  ...              ...            ...                  ...   \n",
       "4741                   1                0              0                    1   \n",
       "4742                   1                0              0                    1   \n",
       "4743                   1                0              0                    1   \n",
       "4744                   1                0              0                    0   \n",
       "4745                   0                1              1                    0   \n",
       "\n",
       "      NEW_Family  NEW_Contact Agent  NEW_Contact Owner  \n",
       "0              0                  0                  1  \n",
       "1              0                  1                  0  \n",
       "2              0                  0                  1  \n",
       "3              0                  1                  0  \n",
       "4              0                  0                  1  \n",
       "...          ...                ...                ...  \n",
       "4741           0                  0                  1  \n",
       "4742           0                  0                  1  \n",
       "4743           0                  0                  1  \n",
       "4744           1                  1                  0  \n",
       "4745           0                  0                  1  \n",
       "\n",
       "[4746 rows x 2039 columns]"
      ]
     },
     "execution_count": 68,
     "metadata": {},
     "output_type": "execute_result"
    }
   ],
   "source": [
    "df_encoded = pd.get_dummies(df , columns=df.select_dtypes(include='object').columns ,dtype='int' ,prefix='NEW')\n",
    "df_encoded \n"
   ]
  },
  {
   "cell_type": "code",
   "execution_count": 69,
   "metadata": {},
   "outputs": [
    {
     "data": {
      "text/plain": [
       "array([ 2.,  1.,  3.,  4.,  5.,  6.,  7., 10.])"
      ]
     },
     "execution_count": 69,
     "metadata": {},
     "output_type": "execute_result"
    }
   ],
   "source": [
    "df_encoded['Bathroom'].unique()"
   ]
  },
  {
   "cell_type": "code",
   "execution_count": 70,
   "metadata": {},
   "outputs": [],
   "source": [
    "from sklearn.preprocessing import Binarizer\n",
    "binarizer = Binarizer(threshold=4)\n",
    "df_encoded['Bathroom'] = binarizer.fit_transform(df_encoded[['Bathroom']])"
   ]
  },
  {
   "cell_type": "code",
   "execution_count": 71,
   "metadata": {},
   "outputs": [
    {
     "data": {
      "text/plain": [
       "Bathroom\n",
       "0.0    4672\n",
       "1.0      74\n",
       "Name: count, dtype: int64"
      ]
     },
     "execution_count": 71,
     "metadata": {},
     "output_type": "execute_result"
    }
   ],
   "source": [
    "df_encoded['Bathroom'].value_counts()"
   ]
  },
  {
   "cell_type": "markdown",
   "metadata": {},
   "source": [
    "- Now let's take a look at Numeric Features\n",
    "- Try the following techniques (if possible) :\n",
    "    - Binarizing numeric variables\n",
    "    - Binning numeric variables"
   ]
  },
  {
   "cell_type": "code",
   "execution_count": 72,
   "metadata": {},
   "outputs": [
    {
     "name": "stderr",
     "output_type": "stream",
     "text": [
      "c:\\Users\\User\\anaconda3\\envs\\AI\\Lib\\site-packages\\seaborn\\_oldcore.py:1119: FutureWarning: use_inf_as_na option is deprecated and will be removed in a future version. Convert inf values to NaN before operating instead.\n",
      "  with pd.option_context('mode.use_inf_as_na', True):\n"
     ]
    },
    {
     "data": {
      "text/plain": [
       "<Axes: xlabel='Size', ylabel='Density'>"
      ]
     },
     "execution_count": 72,
     "metadata": {},
     "output_type": "execute_result"
    },
    {
     "data": {
      "image/png": "[encoded data removed]",
      "text/plain": [
       "<Figure size 640x480 with 1 Axes>"
      ]
     },
     "metadata": {},
     "output_type": "display_data"
    }
   ],
   "source": [
    "sns.kdeplot(df['Size'])"
   ]
  },
  {
   "cell_type": "code",
   "execution_count": 73,
   "metadata": {},
   "outputs": [],
   "source": [
    "size_bins = [0 , 700 , 1500 , 4000 , 7800]\n",
    "size_labels = ['small' , 'medium' , 'large' , 'huge']\n",
    "df['size_binned'] = pd.cut(df['Size'] , bins =size_bins , labels=size_labels )"
   ]
  },
  {
   "cell_type": "markdown",
   "metadata": {},
   "source": [
    "### Generating New Features \n",
    "- Try to Generate new features that seems helpful :\n",
    "    - maybe the ratio between the floor and total number of floors\n",
    "    - or the avarge size of a room "
   ]
  },
  {
   "cell_type": "markdown",
   "metadata": {},
   "source": []
  },
  {
   "cell_type": "markdown",
   "metadata": {},
   "source": [
    "### Scaling and transformations\n",
    "- Try these techniques:\n",
    "    - Min-Max scaling\n",
    "    - Standardization"
   ]
  },
  {
   "cell_type": "code",
   "execution_count": 74,
   "metadata": {},
   "outputs": [
    {
     "name": "stderr",
     "output_type": "stream",
     "text": [
      "c:\\Users\\User\\anaconda3\\envs\\AI\\Lib\\site-packages\\seaborn\\_oldcore.py:1119: FutureWarning: use_inf_as_na option is deprecated and will be removed in a future version. Convert inf values to NaN before operating instead.\n",
      "  with pd.option_context('mode.use_inf_as_na', True):\n",
      "c:\\Users\\User\\anaconda3\\envs\\AI\\Lib\\site-packages\\seaborn\\_oldcore.py:1075: FutureWarning: When grouping with a length-1 list-like, you will need to pass a length-1 tuple to get_group in a future version of pandas. Pass `(name,)` instead of `name` to silence this warning.\n",
      "  data_subset = grouped_data.get_group(pd_key)\n"
     ]
    },
    {
     "data": {
      "text/plain": [
       "<Axes: ylabel='Count'>"
      ]
     },
     "execution_count": 74,
     "metadata": {},
     "output_type": "execute_result"
    },
    {
     "data": {
      "image/png": "[encoded data removed]",
      "text/plain": [
       "<Figure size 640x480 with 1 Axes>"
      ]
     },
     "metadata": {},
     "output_type": "display_data"
    }
   ],
   "source": [
    "from sklearn.preprocessing import StandardScaler\n",
    "from sklearn.preprocessing import MinMaxScaler\n",
    "\n",
    "minimax = MinMaxScaler()\n",
    "scaled = minimax.fit_transform(df[['Size']])\n",
    "\n",
    "sns.histplot(scaled)"
   ]
  },
  {
   "cell_type": "markdown",
   "metadata": {},
   "source": [
    "### Outliers\n",
    "- after scaling and standarising is there any outliers\n",
    "- if there is try to deal with them\n",
    "you may need this code snippet:\n",
    "\n",
    "```python\n",
    "    mean = df['col_name'].mean()\n",
    "    std = df['col_name'].std()\n",
    "    cut_off = std * 3\n",
    "    lower, upper = mean - cut_off, mean + cut_off\n",
    "    new_df = df[(df['col_name'] < upper) & (df['col_name'] > lower)]\n",
    "```"
   ]
  },
  {
   "cell_type": "code",
   "execution_count": 75,
   "metadata": {},
   "outputs": [
    {
     "name": "stderr",
     "output_type": "stream",
     "text": [
      "c:\\Users\\User\\anaconda3\\envs\\AI\\Lib\\site-packages\\seaborn\\categorical.py:1794: FutureWarning: use_inf_as_na option is deprecated and will be removed in a future version. Convert inf values to NaN before operating instead.\n",
      "  with pd.option_context('mode.use_inf_as_na', True):\n"
     ]
    },
    {
     "data": {
      "text/plain": [
       "<Axes: >"
      ]
     },
     "execution_count": 75,
     "metadata": {},
     "output_type": "execute_result"
    },
    {
     "data": {
      "image/png": "[encoded data removed]",
      "text/plain": [
       "<Figure size 640x480 with 1 Axes>"
      ]
     },
     "metadata": {},
     "output_type": "display_data"
    }
   ],
   "source": [
    "sns.boxenplot(df['Size'])"
   ]
  },
  {
   "cell_type": "code",
   "execution_count": 76,
   "metadata": {},
   "outputs": [],
   "source": [
    "size_mean = df['Size'].mean()\n",
    "size_std = df['Size'].std()\n",
    "cut_off = size_std *3\n",
    "lower = size_mean - cut_off\n",
    "upper = size_mean + cut_off\n",
    "final_df = df[(df['Size'] < upper) & (df['Size'] > lower)]"
   ]
  },
  {
   "cell_type": "code",
   "execution_count": 77,
   "metadata": {},
   "outputs": [
    {
     "name": "stderr",
     "output_type": "stream",
     "text": [
      "c:\\Users\\User\\anaconda3\\envs\\AI\\Lib\\site-packages\\seaborn\\categorical.py:1794: FutureWarning: use_inf_as_na option is deprecated and will be removed in a future version. Convert inf values to NaN before operating instead.\n",
      "  with pd.option_context('mode.use_inf_as_na', True):\n"
     ]
    },
    {
     "data": {
      "text/plain": [
       "<Axes: >"
      ]
     },
     "execution_count": 77,
     "metadata": {},
     "output_type": "execute_result"
    },
    {
     "data": {
      "image/png": "[encoded data removed]",
      "text/plain": [
       "<Figure size 640x480 with 1 Axes>"
      ]
     },
     "metadata": {},
     "output_type": "display_data"
    }
   ],
   "source": [
    "sns.boxenplot(final_df['Size'])"
   ]
  },
  {
   "cell_type": "markdown",
   "metadata": {},
   "source": [
    "Finally feel free to get creative and have many experiments as you like :)"
   ]
  }
 ],
 "metadata": {
  "kernelspec": {
   "display_name": "AI",
   "language": "python",
   "name": "python3"
  },
  "language_info": {
   "codemirror_mode": {
    "name": "ipython",
    "version": 3
   },
   "file_extension": ".py",
   "mimetype": "text/x-python",
   "name": "python",
   "nbconvert_exporter": "python",
   "pygments_lexer": "ipython3",
   "version": "3.13.2"
  }
 },
 "nbformat": 4,
 "nbformat_minor": 2
}
